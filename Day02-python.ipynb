{
 "cells": [
  {
   "cell_type": "code",
   "execution_count": 3,
   "id": "48f28620",
   "metadata": {},
   "outputs": [
    {
     "data": {
      "text/plain": [
       "[5, 7, 9]"
      ]
     },
     "execution_count": 3,
     "metadata": {},
     "output_type": "execute_result"
    }
   ],
   "source": [
    "arr1 = [\n",
    "    [1,3,5],\n",
    "    [3,5,7],\n",
    "    [5,7,9]\n",
    "]\n"
   ]
  },
  {
   "cell_type": "code",
   "execution_count": 5,
   "id": "1ae950d3",
   "metadata": {},
   "outputs": [
    {
     "data": {
      "text/plain": [
       "(7, [5, 7, 9])"
      ]
     },
     "execution_count": 5,
     "metadata": {},
     "output_type": "execute_result"
    }
   ],
   "source": [
    "arr1[1][2],arr1[2]"
   ]
  },
  {
   "cell_type": "code",
   "execution_count": 7,
   "id": "6d3d18cb",
   "metadata": {},
   "outputs": [
    {
     "data": {
      "text/plain": [
       "[[99, 3, 5], [3, 5, 7], [5, 7, 9]]"
      ]
     },
     "execution_count": 7,
     "metadata": {},
     "output_type": "execute_result"
    }
   ],
   "source": [
    "arr1[0][0] = 99\n",
    "arr1"
   ]
  },
  {
   "cell_type": "code",
   "execution_count": 8,
   "id": "e6b9ee95",
   "metadata": {},
   "outputs": [
    {
     "data": {
      "text/plain": [
       "[1, 2, 4]"
      ]
     },
     "execution_count": 8,
     "metadata": {},
     "output_type": "execute_result"
    }
   ],
   "source": [
    "a = [1,2,3]\n",
    "a[2] = 4\n",
    "a"
   ]
  },
  {
   "cell_type": "code",
   "execution_count": 9,
   "id": "0fabf25c",
   "metadata": {},
   "outputs": [
    {
     "data": {
      "text/plain": [
       "[1, 'c', 'd', 'e', 4]"
      ]
     },
     "execution_count": 9,
     "metadata": {},
     "output_type": "execute_result"
    }
   ],
   "source": [
    "a[1:2] = ['c','d','e']\n",
    "a"
   ]
  },
  {
   "cell_type": "code",
   "execution_count": 11,
   "id": "d25c2391",
   "metadata": {},
   "outputs": [
    {
     "data": {
      "text/plain": [
       "[10]"
      ]
     },
     "execution_count": 11,
     "metadata": {},
     "output_type": "execute_result"
    }
   ],
   "source": [
    "# 로또 번호 생성\n",
    "\n",
    "import random\n",
    "\n",
    "lotto = [] # 빈 리스트\n",
    "\n",
    "r = random.randint(1,45)\n",
    "lotto.append(r)\n",
    "lotto\n"
   ]
  },
  {
   "cell_type": "code",
   "execution_count": 38,
   "id": "886c4be0",
   "metadata": {},
   "outputs": [],
   "source": [
    "import random\n",
    "\n",
    "lotto2 = [] # 빈 리스트\n",
    "\n",
    "lotto2.append(random.randint(1,45))\n",
    "lotto2.append(random.randint(1,45))\n",
    "lotto2.append(random.randint(1,45))\n",
    "lotto2.append(random.randint(1,45))\n",
    "lotto2.append(random.randint(1,45))\n",
    "lotto2.append(random.randint(1,45))\n",
    "\n"
   ]
  },
  {
   "cell_type": "code",
   "execution_count": 26,
   "id": "8ee7c0d4",
   "metadata": {},
   "outputs": [
    {
     "data": {
      "text/plain": [
       "[1, 2, 3, 4]"
      ]
     },
     "execution_count": 26,
     "metadata": {},
     "output_type": "execute_result"
    }
   ],
   "source": [
    "arr2 = [1,2,3]\n",
    "arr2.insert(3,4)\n",
    "arr2"
   ]
  },
  {
   "cell_type": "code",
   "execution_count": 40,
   "id": "d9e84bfb",
   "metadata": {},
   "outputs": [
    {
     "data": {
      "text/plain": [
       "[4, 13, 18, 25, 34, 40]"
      ]
     },
     "execution_count": 40,
     "metadata": {},
     "output_type": "execute_result"
    }
   ],
   "source": [
    "lotto2.sort(reverse=True)\n",
    "lotto2.reverse()\n",
    "lotto2.sort\n",
    "lotto2"
   ]
  },
  {
   "cell_type": "code",
   "execution_count": 41,
   "id": "75002ac4",
   "metadata": {},
   "outputs": [
    {
     "data": {
      "text/plain": [
       "[4, 13, 18, 25, 34, 40]"
      ]
     },
     "execution_count": 41,
     "metadata": {},
     "output_type": "execute_result"
    }
   ],
   "source": [
    "# 삭제\n",
    "\n",
    "# lotto2.pop(1)\n",
    "lotto2"
   ]
  },
  {
   "cell_type": "code",
   "execution_count": 42,
   "id": "dee88f6a",
   "metadata": {},
   "outputs": [
    {
     "data": {
      "text/plain": [
       "[4, 13, 18, 34, 40]"
      ]
     },
     "execution_count": 42,
     "metadata": {},
     "output_type": "execute_result"
    }
   ],
   "source": [
    "# 삭제\n",
    "lotto2.remove(25)\n",
    "lotto2"
   ]
  },
  {
   "cell_type": "code",
   "execution_count": 43,
   "id": "8f33acb5",
   "metadata": {},
   "outputs": [
    {
     "data": {
      "text/plain": [
       "[4, 18, 34, 40]"
      ]
     },
     "execution_count": 43,
     "metadata": {},
     "output_type": "execute_result"
    }
   ],
   "source": [
    "del lotto2[1]\n",
    "lotto2"
   ]
  },
  {
   "cell_type": "code",
   "execution_count": 44,
   "id": "fbc5f666",
   "metadata": {},
   "outputs": [
    {
     "data": {
      "text/plain": [
       "2"
      ]
     },
     "execution_count": 44,
     "metadata": {},
     "output_type": "execute_result"
    }
   ],
   "source": [
    "a = [1,2,3,4,5,6,1,2,4]\n",
    "a.count(1)"
   ]
  },
  {
   "cell_type": "code",
   "execution_count": 45,
   "id": "b2a49951",
   "metadata": {},
   "outputs": [
    {
     "data": {
      "text/plain": [
       "[1, 2, 3, 4, 5, 6, 1, 2, 4, 19, 21]"
      ]
     },
     "execution_count": 45,
     "metadata": {},
     "output_type": "execute_result"
    }
   ],
   "source": [
    "a.extend([19,21])\n",
    "a"
   ]
  },
  {
   "cell_type": "code",
   "execution_count": 53,
   "id": "39dd77ae",
   "metadata": {},
   "outputs": [
    {
     "name": "stdout",
     "output_type": "stream",
     "text": [
      "[2, 4, 5, 3, 1]\n",
      "Python is too interesting\n",
      "Python is too interesting\n"
     ]
    }
   ],
   "source": [
    "# 연습문제 1\n",
    "\n",
    "list = [1,3,5,4,2]\n",
    "# print(list[::-1])\n",
    "list.reverse()\n",
    "print(list)\n",
    "\n",
    "# 연습문제 2\n",
    "list1 = ['Python','is','too','interesting']\n",
    "a=' '\n",
    "print(a.join(list1))\n",
    "print(' '.join(list1))"
   ]
  },
  {
   "cell_type": "code",
   "execution_count": null,
   "id": "6363a708",
   "metadata": {},
   "outputs": [],
   "source": [
    "arr5"
   ]
  },
  {
   "cell_type": "code",
   "execution_count": 54,
   "id": "2f07b28e",
   "metadata": {},
   "outputs": [],
   "source": [
    "t = (1,3,4)\n",
    "t1 = 1,3,4"
   ]
  },
  {
   "cell_type": "code",
   "execution_count": null,
   "id": "8c000649",
   "metadata": {},
   "outputs": [],
   "source": [
    "참석자 = set()\n",
    "day1 = { }"
   ]
  },
  {
   "cell_type": "code",
   "execution_count": 55,
   "id": "1563ba4c",
   "metadata": {},
   "outputs": [
    {
     "data": {
      "text/plain": [
       "{'a', 'b'}"
      ]
     },
     "execution_count": 55,
     "metadata": {},
     "output_type": "execute_result"
    }
   ],
   "source": [
    "# 연산\n",
    "a = {'a','b','c'}\n",
    "b = set('cde')\n",
    "a-b"
   ]
  },
  {
   "cell_type": "code",
   "execution_count": 56,
   "id": "a884f781",
   "metadata": {},
   "outputs": [
    {
     "data": {
      "text/plain": [
       "{'a', 'b'}"
      ]
     },
     "execution_count": 56,
     "metadata": {},
     "output_type": "execute_result"
    }
   ],
   "source": [
    "a.difference(b)"
   ]
  },
  {
   "cell_type": "code",
   "execution_count": 57,
   "id": "bcb37d83",
   "metadata": {},
   "outputs": [
    {
     "data": {
      "text/plain": [
       "{'a', 'b', 'c', 'd', 'e'}"
      ]
     },
     "execution_count": 57,
     "metadata": {},
     "output_type": "execute_result"
    }
   ],
   "source": [
    "a|b"
   ]
  },
  {
   "cell_type": "code",
   "execution_count": 58,
   "id": "ba5303a6",
   "metadata": {},
   "outputs": [
    {
     "data": {
      "text/plain": [
       "{'a', 'b', 'c', 'd', 'e'}"
      ]
     },
     "execution_count": 58,
     "metadata": {},
     "output_type": "execute_result"
    }
   ],
   "source": [
    "a.union(b)"
   ]
  },
  {
   "cell_type": "code",
   "execution_count": 59,
   "id": "d11a6414",
   "metadata": {},
   "outputs": [
    {
     "data": {
      "text/plain": [
       "{'c'}"
      ]
     },
     "execution_count": 59,
     "metadata": {},
     "output_type": "execute_result"
    }
   ],
   "source": [
    "a & b "
   ]
  },
  {
   "cell_type": "code",
   "execution_count": 61,
   "id": "5ad1c255",
   "metadata": {},
   "outputs": [
    {
     "data": {
      "text/plain": [
       "{'c'}"
      ]
     },
     "execution_count": 61,
     "metadata": {},
     "output_type": "execute_result"
    }
   ],
   "source": [
    "a.intersection(b)"
   ]
  },
  {
   "cell_type": "code",
   "execution_count": null,
   "id": "58f139e2",
   "metadata": {},
   "outputs": [],
   "source": [
    "s = set(\"Hello\")"
   ]
  },
  {
   "cell_type": "code",
   "execution_count": 94,
   "id": "84ff32d5",
   "metadata": {},
   "outputs": [
    {
     "data": {
      "text/plain": [
       "{'홍': 70, '김': 90, '이': 95}"
      ]
     },
     "execution_count": 94,
     "metadata": {},
     "output_type": "execute_result"
    }
   ],
   "source": [
    "names = ['홍','김','이']\n",
    "scores = [70,90,95]\n",
    "score_dict = {'홍': 70, '김': 90, '이':95}\n",
    "score_dict"
   ]
  },
  {
   "cell_type": "code",
   "execution_count": 98,
   "id": "7c426d42",
   "metadata": {},
   "outputs": [
    {
     "data": {
      "text/plain": [
       "dict_keys(['홍', '김', '이'])"
      ]
     },
     "execution_count": 98,
     "metadata": {},
     "output_type": "execute_result"
    }
   ],
   "source": [
    "score_dict.keys()"
   ]
  },
  {
   "cell_type": "code",
   "execution_count": 96,
   "id": "9c0bea58",
   "metadata": {},
   "outputs": [
    {
     "data": {
      "text/plain": [
       "dict_values([70, 90, 95])"
      ]
     },
     "execution_count": 96,
     "metadata": {},
     "output_type": "execute_result"
    }
   ],
   "source": [
    "score_dict.values()"
   ]
  },
  {
   "cell_type": "code",
   "execution_count": null,
   "id": "423ac8aa",
   "metadata": {},
   "outputs": [],
   "source": []
  },
  {
   "cell_type": "code",
   "execution_count": null,
   "id": "e4e3b13a",
   "metadata": {},
   "outputs": [],
   "source": []
  },
  {
   "cell_type": "code",
   "execution_count": null,
   "id": "97716293",
   "metadata": {},
   "outputs": [],
   "source": []
  }
 ],
 "metadata": {
  "kernelspec": {
   "display_name": "Python 3 (ipykernel)",
   "language": "python",
   "name": "python3"
  },
  "language_info": {
   "codemirror_mode": {
    "name": "ipython",
    "version": 3
   },
   "file_extension": ".py",
   "mimetype": "text/x-python",
   "name": "python",
   "nbconvert_exporter": "python",
   "pygments_lexer": "ipython3",
   "version": "3.9.12"
  }
 },
 "nbformat": 4,
 "nbformat_minor": 5
}
