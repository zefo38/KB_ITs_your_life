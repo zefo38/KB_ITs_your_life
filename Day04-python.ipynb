{
 "cells": [
  {
   "cell_type": "code",
   "execution_count": null,
   "id": "211cd224",
   "metadata": {},
   "outputs": [],
   "source": [
    "# 데이터 관리\n",
    "# 데이터 - 정보(단일, 복합-개인정보, 상품정보)\n",
    "# 관리 - 등록, 검색(목록, 상세), 수정, 삭제\n",
    "\n"
   ]
  },
  {
   "cell_type": "code",
   "execution_count": null,
   "id": "515d491f",
   "metadata": {},
   "outputs": [],
   "source": [
    "int , float, str -> 단일 정보\n",
    "list, set, dict -> 복합 정보\n",
    "이름 : 값 상품정보 - 이름 :\"냉장고\", 크기:200리터, 공장도가격=1000000,\n",
    "                     소매가격=1500000, 제조사=\"LG\", "
   ]
  },
  {
   "cell_type": "code",
   "execution_count": 33,
   "id": "eec0f179",
   "metadata": {},
   "outputs": [
    {
     "name": "stdout",
     "output_type": "stream",
     "text": [
      "냉장고,LG,200,1000000\n",
      "세탁기,SAMSUNG,10,900000\n"
     ]
    },
    {
     "data": {
      "text/plain": [
       "2"
      ]
     },
     "execution_count": 33,
     "metadata": {},
     "output_type": "execute_result"
    }
   ],
   "source": [
    "# 상품정보전용 데이터 타입\n",
    "\n",
    "class Product:\n",
    "    count = 0\n",
    "    def __init__(self,type,제조사,크기,가격):\n",
    "        self.type   = type\n",
    "        self.제조사 = 제조사\n",
    "        self.크기   = 크기\n",
    "        self.가격   = 가격\n",
    "        Product.count += 1\n",
    "        \n",
    "    def __del__(self):\n",
    "        print(\"object Removed!!\")\n",
    "\n",
    "    def print_info(self):\n",
    "        print(f\"{self.type},{self.제조사},{self.크기},{self.가격}\")\n",
    "        \n",
    "        \n",
    "p1 = Product(type=\"냉장고\",제조사=\"LG\",크기=200, 가격=1000000)\n",
    "p1.print_info() # 내용 확인\n",
    "p2 = Product(type=\"세탁기\",제조사=\"SAMSUNG\",크기=10, 가격=900000)\n",
    "p2.print_info() # 내용 확인\n",
    "\n",
    "p2.count"
   ]
  },
  {
   "cell_type": "code",
   "execution_count": 29,
   "id": "e18b6c68",
   "metadata": {},
   "outputs": [
    {
     "name": "stdout",
     "output_type": "stream",
     "text": [
      "object Removed!!\n"
     ]
    }
   ],
   "source": [
    "del p1"
   ]
  },
  {
   "cell_type": "code",
   "execution_count": 31,
   "id": "2f6349fc",
   "metadata": {},
   "outputs": [],
   "source": [
    "p3 = p2\n",
    "del p2"
   ]
  },
  {
   "cell_type": "code",
   "execution_count": 32,
   "id": "b7a6c22e",
   "metadata": {},
   "outputs": [
    {
     "name": "stdout",
     "output_type": "stream",
     "text": [
      "object Removed!!\n"
     ]
    }
   ],
   "source": [
    "del p3"
   ]
  },
  {
   "cell_type": "code",
   "execution_count": 49,
   "id": "0b0029e3",
   "metadata": {},
   "outputs": [
    {
     "name": "stdout",
     "output_type": "stream",
     "text": [
      "name:  이제노\n",
      "name:  나재민\n",
      "전공:  소프트웨어공학\n",
      "name:  이민형\n",
      "소속:  개발 1팀\n",
      "name:  박지성\n",
      "전공:  컴공\n"
     ]
    }
   ],
   "source": [
    "# 상속\n",
    "\n",
    "class Person:\n",
    "    def __init__(self,name):\n",
    "        self.name = name\n",
    "        \n",
    "    def printInfo(self):\n",
    "        print('name: ',self.name)\n",
    "        \n",
    "class Student(Person):\n",
    "    def __init__(self,name,전공,id_num):\n",
    "        super().__init__(name)\n",
    "        self.전공 = 전공\n",
    "        self.id_num = id_num\n",
    "        \n",
    "    def printInfo(self):\n",
    "        super().printInfo()\n",
    "        print('전공: ',self.전공) \n",
    "        \n",
    "class Emp(Person):\n",
    "    def __init__(self,name,소속,id_num):\n",
    "        super().__init__(name)\n",
    "        self.소속 = 소속\n",
    "        self.id_num = id_num\n",
    "        \n",
    "    def printInfo(self):\n",
    "        super().printInfo()\n",
    "        print('소속: ',self.소속) \n",
    "\n",
    "class Teacher(Person):\n",
    "    def __init__(self,name,전공,id_num):\n",
    "        super().__init__(name)\n",
    "        self.전공 = 전공\n",
    "        self.id_num = id_num\n",
    "        \n",
    "    def printInfo(self):\n",
    "        super().printInfo()\n",
    "        print('전공: ',self.전공)\n",
    "        \n",
    "        \n",
    "p1 = Person(\"이제노\")\n",
    "s1 = Student(\"나재민\",\"소프트웨어공학\",1011)\n",
    "e1 = Emp(\"이민형\",\"개발 1팀\",990802)\n",
    "t1 = Teacher(\"박지성\",\"컴공\",2002)\n",
    "\n",
    "p1.printInfo()\n",
    "s1.printInfo()\n",
    "e1.printInfo()\n",
    "t1.printInfo()"
   ]
  },
  {
   "cell_type": "code",
   "execution_count": 66,
   "id": "7bcc8a48",
   "metadata": {},
   "outputs": [],
   "source": [
    "import random\n",
    "random.randint(1,3)\n",
    "\n",
    "import random as rd\n",
    "rd.randint(1,3)\n",
    "\n",
    "from random import randint\n",
    "randint(1,3)\n",
    "\n",
    "from random import randint as rd2\n"
   ]
  },
  {
   "cell_type": "code",
   "execution_count": 67,
   "id": "0670135a",
   "metadata": {},
   "outputs": [
    {
     "data": {
      "text/plain": [
       "3"
      ]
     },
     "execution_count": 67,
     "metadata": {},
     "output_type": "execute_result"
    }
   ],
   "source": [
    "rd2(1,3)"
   ]
  },
  {
   "cell_type": "code",
   "execution_count": 68,
   "id": "314aa0c4",
   "metadata": {},
   "outputs": [
    {
     "name": "stdout",
     "output_type": "stream",
     "text": [
      "Writing my_calc.py\n"
     ]
    }
   ],
   "source": [
    "%%writefile my_calc.py\n",
    "myname = \"홍길동\"\n",
    "\n",
    "def plus(a, b):\n",
    "    return a+b\n",
    "\n",
    "def minus(a, b):\n",
    "    return a-b"
   ]
  },
  {
   "cell_type": "code",
   "execution_count": 72,
   "id": "60653d97",
   "metadata": {},
   "outputs": [
    {
     "name": "stdout",
     "output_type": "stream",
     "text": [
      "7\n",
      "-1\n",
      "홍길동\n"
     ]
    }
   ],
   "source": [
    "import my_calc\n",
    "\n",
    "print(my_calc.plus(3,4))\n",
    "print(my_calc.minus(3,4))\n",
    "print(my_calc.myname)"
   ]
  },
  {
   "cell_type": "code",
   "execution_count": 5,
   "id": "cab72d05",
   "metadata": {},
   "outputs": [
    {
     "name": "stdout",
     "output_type": "stream",
     "text": [
      "Hello\n"
     ]
    }
   ],
   "source": [
    "import my_calc\n",
    "\n",
    "my_calc.hello()"
   ]
  },
  {
   "cell_type": "code",
   "execution_count": 2,
   "id": "ad32051c",
   "metadata": {},
   "outputs": [
    {
     "name": "stdout",
     "output_type": "stream",
     "text": [
      "Overwriting find_number.py\n"
     ]
    }
   ],
   "source": [
    "%%writefile find_number.py\n",
    "\n"
   ]
  },
  {
   "cell_type": "code",
   "execution_count": 10,
   "id": "61460596",
   "metadata": {},
   "outputs": [
    {
     "name": "stdout",
     "output_type": "stream",
     "text": [
      "행 좌표 입력 : (0~9)3\n",
      "열 좌표 입력 : (0~9)7\n"
     ]
    },
    {
     "data": {
      "text/plain": [
       "[['-', '-', '-', '-', '-', '-', '-', '-', '-', '-'],\n",
       " ['-', '-', '-', '-', '-', '-', '-', '-', '-', '-'],\n",
       " ['-', '-', '-', '-', '-', '-', '-', '-', '-', '-'],\n",
       " ['-', '-', '-', '-', '-', '-', '-', '1', '-', '-'],\n",
       " ['-', '-', '-', '-', '-', '-', '-', '-', '-', '-'],\n",
       " ['-', '-', '-', '-', '-', '-', '-', '-', '-', '-'],\n",
       " ['-', '-', '-', '-', '-', '-', '-', '-', '-', '-'],\n",
       " ['-', '-', '-', '-', '-', '-', '-', '-', '-', '-'],\n",
       " ['-', '-', '-', '-', '-', '-', '-', '-', '-', '-'],\n",
       " ['-', '-', '-', '-', '-', '-', '-', '-', '-', '-']]"
      ]
     },
     "metadata": {},
     "output_type": "display_data"
    },
    {
     "name": "stdout",
     "output_type": "stream",
     "text": [
      "행 좌표 입력 : (0~9)3\n",
      "열 좌표 입력 : (0~9)9\n"
     ]
    },
    {
     "data": {
      "text/plain": [
       "[['-', '-', '-', '-', '-', '-', '-', '-', '-', '-'],\n",
       " ['-', '-', '-', '-', '-', '-', '-', '-', '-', '-'],\n",
       " ['-', '-', '-', '-', '-', '-', '-', '-', '-', '-'],\n",
       " ['-', '-', '-', '-', '-', '-', '-', '1', '-', '0'],\n",
       " ['-', '-', '-', '-', '-', '-', '-', '-', '-', '-'],\n",
       " ['-', '-', '-', '-', '-', '-', '-', '-', '-', '-'],\n",
       " ['-', '-', '-', '-', '-', '-', '-', '-', '-', '-'],\n",
       " ['-', '-', '-', '-', '-', '-', '-', '-', '-', '-'],\n",
       " ['-', '-', '-', '-', '-', '-', '-', '-', '-', '-'],\n",
       " ['-', '-', '-', '-', '-', '-', '-', '-', '-', '-']]"
      ]
     },
     "metadata": {},
     "output_type": "display_data"
    },
    {
     "name": "stdout",
     "output_type": "stream",
     "text": [
      "행 좌표 입력 : (0~9)8\n",
      "열 좌표 입력 : (0~9)8\n"
     ]
    },
    {
     "data": {
      "text/plain": [
       "[['-', '-', '-', '-', '-', '-', '-', '-', '-', '-'],\n",
       " ['-', '-', '-', '-', '-', '-', '-', '-', '-', '-'],\n",
       " ['-', '-', '-', '-', '-', '-', '-', '-', '-', '-'],\n",
       " ['-', '-', '-', '-', '-', '-', '-', '1', '-', '0'],\n",
       " ['-', '-', '-', '-', '-', '-', '-', '-', '-', '-'],\n",
       " ['-', '-', '-', '-', '-', '-', '-', '-', '-', '-'],\n",
       " ['-', '-', '-', '-', '-', '-', '-', '-', '-', '-'],\n",
       " ['-', '-', '-', '-', '-', '-', '-', '-', '-', '-'],\n",
       " ['-', '-', '-', '-', '-', '-', '-', '-', '1', '-'],\n",
       " ['-', '-', '-', '-', '-', '-', '-', '-', '-', '-']]"
      ]
     },
     "metadata": {},
     "output_type": "display_data"
    },
    {
     "name": "stdout",
     "output_type": "stream",
     "text": [
      "행 좌표 입력 : (0~9)6\n",
      "열 좌표 입력 : (0~9)6\n"
     ]
    },
    {
     "data": {
      "text/plain": [
       "[['-', '-', '-', '-', '-', '-', '-', '-', '-', '-'],\n",
       " ['-', '-', '-', '-', '-', '-', '-', '-', '-', '-'],\n",
       " ['-', '-', '-', '-', '-', '-', '-', '-', '-', '-'],\n",
       " ['-', '-', '-', '-', '-', '-', '-', '1', '-', '0'],\n",
       " ['-', '-', '-', '-', '-', '-', '-', '-', '-', '-'],\n",
       " ['-', '-', '-', '-', '-', '-', '-', '-', '-', '-'],\n",
       " ['-', '-', '-', '-', '-', '-', '1', '-', '-', '-'],\n",
       " ['-', '-', '-', '-', '-', '-', '-', '-', '-', '-'],\n",
       " ['-', '-', '-', '-', '-', '-', '-', '-', '1', '-'],\n",
       " ['-', '-', '-', '-', '-', '-', '-', '-', '-', '-']]"
      ]
     },
     "metadata": {},
     "output_type": "display_data"
    },
    {
     "name": "stdout",
     "output_type": "stream",
     "text": [
      "행 좌표 입력 : (0~9)9\n",
      "열 좌표 입력 : (0~9)9\n"
     ]
    },
    {
     "data": {
      "text/plain": [
       "[['-', '-', '-', '-', '-', '-', '-', '-', '-', '-'],\n",
       " ['-', '-', '-', '-', '-', '-', '-', '-', '-', '-'],\n",
       " ['-', '-', '-', '-', '-', '-', '-', '-', '-', '-'],\n",
       " ['-', '-', '-', '-', '-', '-', '-', '1', '-', '0'],\n",
       " ['-', '-', '-', '-', '-', '-', '-', '-', '-', '-'],\n",
       " ['-', '-', '-', '-', '-', '-', '-', '-', '-', '-'],\n",
       " ['-', '-', '-', '-', '-', '-', '1', '-', '-', '-'],\n",
       " ['-', '-', '-', '-', '-', '-', '-', '-', '-', '-'],\n",
       " ['-', '-', '-', '-', '-', '-', '-', '-', '1', '-'],\n",
       " ['-', '-', '-', '-', '-', '-', '-', '-', '-', '0']]"
      ]
     },
     "metadata": {},
     "output_type": "display_data"
    },
    {
     "name": "stdout",
     "output_type": "stream",
     "text": [
      "행 좌표 입력 : (0~9)2\n",
      "열 좌표 입력 : (0~9)6\n"
     ]
    },
    {
     "data": {
      "text/plain": [
       "[['-', '-', '-', '-', '-', '-', '-', '-', '-', '-'],\n",
       " ['-', '-', '-', '-', '-', '-', '-', '-', '-', '-'],\n",
       " ['-', '-', '-', '-', '-', '-', '1', '-', '-', '-'],\n",
       " ['-', '-', '-', '-', '-', '-', '-', '1', '-', '0'],\n",
       " ['-', '-', '-', '-', '-', '-', '-', '-', '-', '-'],\n",
       " ['-', '-', '-', '-', '-', '-', '-', '-', '-', '-'],\n",
       " ['-', '-', '-', '-', '-', '-', '1', '-', '-', '-'],\n",
       " ['-', '-', '-', '-', '-', '-', '-', '-', '-', '-'],\n",
       " ['-', '-', '-', '-', '-', '-', '-', '-', '1', '-'],\n",
       " ['-', '-', '-', '-', '-', '-', '-', '-', '-', '0']]"
      ]
     },
     "metadata": {},
     "output_type": "display_data"
    },
    {
     "ename": "KeyboardInterrupt",
     "evalue": "Interrupted by user",
     "output_type": "error",
     "traceback": [
      "\u001b[1;31m---------------------------------------------------------------------------\u001b[0m",
      "\u001b[1;31mKeyboardInterrupt\u001b[0m                         Traceback (most recent call last)",
      "Input \u001b[1;32mIn [10]\u001b[0m, in \u001b[0;36m<cell line: 2>\u001b[1;34m()\u001b[0m\n\u001b[0;32m      1\u001b[0m \u001b[38;5;28;01mimport\u001b[39;00m \u001b[38;5;21;01mbumb\u001b[39;00m\n\u001b[1;32m----> 2\u001b[0m \u001b[43mbumb\u001b[49m\u001b[38;5;241;43m.\u001b[39;49m\u001b[43mstart_game\u001b[49m\u001b[43m(\u001b[49m\u001b[43m)\u001b[49m\n",
      "File \u001b[1;32m~\\Desktop\\KB_work\\bumb.py:57\u001b[0m, in \u001b[0;36mstart_game\u001b[1;34m()\u001b[0m\n\u001b[0;32m     52\u001b[0m findMineCounter \u001b[38;5;241m=\u001b[39m \u001b[38;5;241m0\u001b[39m \u001b[38;5;66;03m#찾은 지뢰 개수\u001b[39;00m\n\u001b[0;32m     54\u001b[0m \u001b[38;5;28;01mwhile\u001b[39;00m findMineCounter \u001b[38;5;241m!=\u001b[39m \u001b[38;5;241m10\u001b[39m: \u001b[38;5;66;03m# 10개 못 찾으면 계속 반복\u001b[39;00m\n\u001b[0;32m     55\u001b[0m \n\u001b[0;32m     56\u001b[0m     \u001b[38;5;66;03m# 2. 오픈할 좌표 입력받기\u001b[39;00m\n\u001b[1;32m---> 57\u001b[0m     row \u001b[38;5;241m=\u001b[39m \u001b[38;5;28mint\u001b[39m(\u001b[38;5;28;43minput\u001b[39;49m\u001b[43m(\u001b[49m\u001b[38;5;124;43m\"\u001b[39;49m\u001b[38;5;124;43m행 좌표 입력 : (0~9)\u001b[39;49m\u001b[38;5;124;43m\"\u001b[39;49m\u001b[43m)\u001b[49m)\n\u001b[0;32m     58\u001b[0m     col \u001b[38;5;241m=\u001b[39m \u001b[38;5;28mint\u001b[39m(\u001b[38;5;28minput\u001b[39m(\u001b[38;5;124m\"\u001b[39m\u001b[38;5;124m열 좌표 입력 : (0~9)\u001b[39m\u001b[38;5;124m\"\u001b[39m))\n\u001b[0;32m     60\u001b[0m     \u001b[38;5;66;03m# 3. fields의 오픈할 좌표값을 출력용 2차원 배열에 복사\u001b[39;00m\n",
      "File \u001b[1;32m~\\anaconda3\\lib\\site-packages\\ipykernel\\kernelbase.py:1075\u001b[0m, in \u001b[0;36mKernel.raw_input\u001b[1;34m(self, prompt)\u001b[0m\n\u001b[0;32m   1071\u001b[0m \u001b[38;5;28;01mif\u001b[39;00m \u001b[38;5;129;01mnot\u001b[39;00m \u001b[38;5;28mself\u001b[39m\u001b[38;5;241m.\u001b[39m_allow_stdin:\n\u001b[0;32m   1072\u001b[0m     \u001b[38;5;28;01mraise\u001b[39;00m StdinNotImplementedError(\n\u001b[0;32m   1073\u001b[0m         \u001b[38;5;124m\"\u001b[39m\u001b[38;5;124mraw_input was called, but this frontend does not support input requests.\u001b[39m\u001b[38;5;124m\"\u001b[39m\n\u001b[0;32m   1074\u001b[0m     )\n\u001b[1;32m-> 1075\u001b[0m \u001b[38;5;28;01mreturn\u001b[39;00m \u001b[38;5;28;43mself\u001b[39;49m\u001b[38;5;241;43m.\u001b[39;49m\u001b[43m_input_request\u001b[49m\u001b[43m(\u001b[49m\n\u001b[0;32m   1076\u001b[0m \u001b[43m    \u001b[49m\u001b[38;5;28;43mstr\u001b[39;49m\u001b[43m(\u001b[49m\u001b[43mprompt\u001b[49m\u001b[43m)\u001b[49m\u001b[43m,\u001b[49m\n\u001b[0;32m   1077\u001b[0m \u001b[43m    \u001b[49m\u001b[38;5;28;43mself\u001b[39;49m\u001b[38;5;241;43m.\u001b[39;49m\u001b[43m_parent_ident\u001b[49m\u001b[43m[\u001b[49m\u001b[38;5;124;43m\"\u001b[39;49m\u001b[38;5;124;43mshell\u001b[39;49m\u001b[38;5;124;43m\"\u001b[39;49m\u001b[43m]\u001b[49m\u001b[43m,\u001b[49m\n\u001b[0;32m   1078\u001b[0m \u001b[43m    \u001b[49m\u001b[38;5;28;43mself\u001b[39;49m\u001b[38;5;241;43m.\u001b[39;49m\u001b[43mget_parent\u001b[49m\u001b[43m(\u001b[49m\u001b[38;5;124;43m\"\u001b[39;49m\u001b[38;5;124;43mshell\u001b[39;49m\u001b[38;5;124;43m\"\u001b[39;49m\u001b[43m)\u001b[49m\u001b[43m,\u001b[49m\n\u001b[0;32m   1079\u001b[0m \u001b[43m    \u001b[49m\u001b[43mpassword\u001b[49m\u001b[38;5;241;43m=\u001b[39;49m\u001b[38;5;28;43;01mFalse\u001b[39;49;00m\u001b[43m,\u001b[49m\n\u001b[0;32m   1080\u001b[0m \u001b[43m\u001b[49m\u001b[43m)\u001b[49m\n",
      "File \u001b[1;32m~\\anaconda3\\lib\\site-packages\\ipykernel\\kernelbase.py:1120\u001b[0m, in \u001b[0;36mKernel._input_request\u001b[1;34m(self, prompt, ident, parent, password)\u001b[0m\n\u001b[0;32m   1117\u001b[0m             \u001b[38;5;28;01mbreak\u001b[39;00m\n\u001b[0;32m   1118\u001b[0m \u001b[38;5;28;01mexcept\u001b[39;00m \u001b[38;5;167;01mKeyboardInterrupt\u001b[39;00m:\n\u001b[0;32m   1119\u001b[0m     \u001b[38;5;66;03m# re-raise KeyboardInterrupt, to truncate traceback\u001b[39;00m\n\u001b[1;32m-> 1120\u001b[0m     \u001b[38;5;28;01mraise\u001b[39;00m \u001b[38;5;167;01mKeyboardInterrupt\u001b[39;00m(\u001b[38;5;124m\"\u001b[39m\u001b[38;5;124mInterrupted by user\u001b[39m\u001b[38;5;124m\"\u001b[39m) \u001b[38;5;28;01mfrom\u001b[39;00m \u001b[38;5;28mNone\u001b[39m\n\u001b[0;32m   1121\u001b[0m \u001b[38;5;28;01mexcept\u001b[39;00m \u001b[38;5;167;01mException\u001b[39;00m:\n\u001b[0;32m   1122\u001b[0m     \u001b[38;5;28mself\u001b[39m\u001b[38;5;241m.\u001b[39mlog\u001b[38;5;241m.\u001b[39mwarning(\u001b[38;5;124m\"\u001b[39m\u001b[38;5;124mInvalid Message:\u001b[39m\u001b[38;5;124m\"\u001b[39m, exc_info\u001b[38;5;241m=\u001b[39m\u001b[38;5;28;01mTrue\u001b[39;00m)\n",
      "\u001b[1;31mKeyboardInterrupt\u001b[0m: Interrupted by user"
     ]
    }
   ],
   "source": [
    "import bumb\n",
    "bumb.start_game()"
   ]
  },
  {
   "cell_type": "code",
   "execution_count": 14,
   "id": "f7f0add8",
   "metadata": {},
   "outputs": [
    {
     "name": "stdout",
     "output_type": "stream",
     "text": [
      "숫자를 맞춰보세요 (1~100) : 33\n",
      "0회 시도\n",
      "업 ~\n"
     ]
    },
    {
     "ename": "KeyboardInterrupt",
     "evalue": "Interrupted by user",
     "output_type": "error",
     "traceback": [
      "\u001b[1;31m---------------------------------------------------------------------------\u001b[0m",
      "\u001b[1;31mKeyboardInterrupt\u001b[0m                         Traceback (most recent call last)",
      "Input \u001b[1;32mIn [14]\u001b[0m, in \u001b[0;36m<cell line: 2>\u001b[1;34m()\u001b[0m\n\u001b[0;32m      1\u001b[0m \u001b[38;5;28;01mimport\u001b[39;00m \u001b[38;5;21;01mfind_num\u001b[39;00m\n\u001b[1;32m----> 2\u001b[0m \u001b[43mfind_num\u001b[49m\u001b[38;5;241;43m.\u001b[39;49m\u001b[43mstart_game\u001b[49m\u001b[43m(\u001b[49m\u001b[43m)\u001b[49m\n",
      "File \u001b[1;32m~\\Desktop\\KB_work\\find_num.py:9\u001b[0m, in \u001b[0;36mstart_game\u001b[1;34m()\u001b[0m\n\u001b[0;32m      1\u001b[0m \u001b[38;5;28;01mdef\u001b[39;00m \u001b[38;5;21mstart_game\u001b[39m():\n\u001b[0;32m      2\u001b[0m     \u001b[38;5;66;03m#숫자맞추기 게임 - while 문\u001b[39;00m\n\u001b[0;32m      3\u001b[0m \n\u001b[1;32m   (...)\u001b[0m\n\u001b[0;32m      7\u001b[0m \n\u001b[0;32m      8\u001b[0m     \u001b[38;5;66;03m#메시지: 당신은 바보입니까?\u001b[39;00m\n\u001b[1;32m----> 9\u001b[0m     \u001b[38;5;28;01mimport\u001b[39;00m \u001b[38;5;21;01mrandom\u001b[39;00m\n\u001b[0;32m     10\u001b[0m     com \u001b[38;5;241m=\u001b[39m random\u001b[38;5;241m.\u001b[39mrandint(\u001b[38;5;241m1\u001b[39m,\u001b[38;5;241m100\u001b[39m)\n\u001b[0;32m     11\u001b[0m     try_count \u001b[38;5;241m=\u001b[39m \u001b[38;5;241m0\u001b[39m \u001b[38;5;66;03m# 시도횟수\u001b[39;00m\n",
      "File \u001b[1;32m~\\anaconda3\\lib\\site-packages\\ipykernel\\kernelbase.py:1075\u001b[0m, in \u001b[0;36mKernel.raw_input\u001b[1;34m(self, prompt)\u001b[0m\n\u001b[0;32m   1071\u001b[0m \u001b[38;5;28;01mif\u001b[39;00m \u001b[38;5;129;01mnot\u001b[39;00m \u001b[38;5;28mself\u001b[39m\u001b[38;5;241m.\u001b[39m_allow_stdin:\n\u001b[0;32m   1072\u001b[0m     \u001b[38;5;28;01mraise\u001b[39;00m StdinNotImplementedError(\n\u001b[0;32m   1073\u001b[0m         \u001b[38;5;124m\"\u001b[39m\u001b[38;5;124mraw_input was called, but this frontend does not support input requests.\u001b[39m\u001b[38;5;124m\"\u001b[39m\n\u001b[0;32m   1074\u001b[0m     )\n\u001b[1;32m-> 1075\u001b[0m \u001b[38;5;28;01mreturn\u001b[39;00m \u001b[38;5;28;43mself\u001b[39;49m\u001b[38;5;241;43m.\u001b[39;49m\u001b[43m_input_request\u001b[49m\u001b[43m(\u001b[49m\n\u001b[0;32m   1076\u001b[0m \u001b[43m    \u001b[49m\u001b[38;5;28;43mstr\u001b[39;49m\u001b[43m(\u001b[49m\u001b[43mprompt\u001b[49m\u001b[43m)\u001b[49m\u001b[43m,\u001b[49m\n\u001b[0;32m   1077\u001b[0m \u001b[43m    \u001b[49m\u001b[38;5;28;43mself\u001b[39;49m\u001b[38;5;241;43m.\u001b[39;49m\u001b[43m_parent_ident\u001b[49m\u001b[43m[\u001b[49m\u001b[38;5;124;43m\"\u001b[39;49m\u001b[38;5;124;43mshell\u001b[39;49m\u001b[38;5;124;43m\"\u001b[39;49m\u001b[43m]\u001b[49m\u001b[43m,\u001b[49m\n\u001b[0;32m   1078\u001b[0m \u001b[43m    \u001b[49m\u001b[38;5;28;43mself\u001b[39;49m\u001b[38;5;241;43m.\u001b[39;49m\u001b[43mget_parent\u001b[49m\u001b[43m(\u001b[49m\u001b[38;5;124;43m\"\u001b[39;49m\u001b[38;5;124;43mshell\u001b[39;49m\u001b[38;5;124;43m\"\u001b[39;49m\u001b[43m)\u001b[49m\u001b[43m,\u001b[49m\n\u001b[0;32m   1079\u001b[0m \u001b[43m    \u001b[49m\u001b[43mpassword\u001b[49m\u001b[38;5;241;43m=\u001b[39;49m\u001b[38;5;28;43;01mFalse\u001b[39;49;00m\u001b[43m,\u001b[49m\n\u001b[0;32m   1080\u001b[0m \u001b[43m\u001b[49m\u001b[43m)\u001b[49m\n",
      "File \u001b[1;32m~\\anaconda3\\lib\\site-packages\\ipykernel\\kernelbase.py:1120\u001b[0m, in \u001b[0;36mKernel._input_request\u001b[1;34m(self, prompt, ident, parent, password)\u001b[0m\n\u001b[0;32m   1117\u001b[0m             \u001b[38;5;28;01mbreak\u001b[39;00m\n\u001b[0;32m   1118\u001b[0m \u001b[38;5;28;01mexcept\u001b[39;00m \u001b[38;5;167;01mKeyboardInterrupt\u001b[39;00m:\n\u001b[0;32m   1119\u001b[0m     \u001b[38;5;66;03m# re-raise KeyboardInterrupt, to truncate traceback\u001b[39;00m\n\u001b[1;32m-> 1120\u001b[0m     \u001b[38;5;28;01mraise\u001b[39;00m \u001b[38;5;167;01mKeyboardInterrupt\u001b[39;00m(\u001b[38;5;124m\"\u001b[39m\u001b[38;5;124mInterrupted by user\u001b[39m\u001b[38;5;124m\"\u001b[39m) \u001b[38;5;28;01mfrom\u001b[39;00m \u001b[38;5;28mNone\u001b[39m\n\u001b[0;32m   1121\u001b[0m \u001b[38;5;28;01mexcept\u001b[39;00m \u001b[38;5;167;01mException\u001b[39;00m:\n\u001b[0;32m   1122\u001b[0m     \u001b[38;5;28mself\u001b[39m\u001b[38;5;241m.\u001b[39mlog\u001b[38;5;241m.\u001b[39mwarning(\u001b[38;5;124m\"\u001b[39m\u001b[38;5;124mInvalid Message:\u001b[39m\u001b[38;5;124m\"\u001b[39m, exc_info\u001b[38;5;241m=\u001b[39m\u001b[38;5;28;01mTrue\u001b[39;00m)\n",
      "\u001b[1;31mKeyboardInterrupt\u001b[0m: Interrupted by user"
     ]
    }
   ],
   "source": [
    "import find_num\n",
    "find_num.start_game()"
   ]
  },
  {
   "cell_type": "code",
   "execution_count": 28,
   "id": "bb55666b",
   "metadata": {},
   "outputs": [
    {
     "name": "stdout",
     "output_type": "stream",
     "text": [
      "lines ['8월 4일\\n', '여름']\n"
     ]
    }
   ],
   "source": [
    "f = None\n",
    "try:\n",
    "    f=open(\"my_poem.txt\",\"r\",encoding =\"utf-8\")\n",
    "    lines = f.readlines()\n",
    "    print(\"lines\",lines)\n",
    "    f.close()\n",
    "    \n",
    "except FileNotFoundError:\n",
    "    print(\"파일이 없습니다.\")\n",
    "except UnicodeDecodeError:\n",
    "    print(\"encoding 파라미터를 지정하세요.\")\n",
    "\n",
    "    "
   ]
  },
  {
   "cell_type": "code",
   "execution_count": 33,
   "id": "74bcbfdc",
   "metadata": {},
   "outputs": [
    {
     "name": "stdout",
     "output_type": "stream",
     "text": [
      "8월 4일\n",
      "여름\n"
     ]
    }
   ],
   "source": [
    "    f=open(\"my_poem.txt\",\"r\",encoding =\"utf-8\")\n",
    "    lines = f.readlines()\n",
    "    f.close()\n",
    "    lines = [ s.strip() for s in lines ]\n",
    "    for s in lines:\n",
    "        print(s)"
   ]
  },
  {
   "cell_type": "code",
   "execution_count": 35,
   "id": "020095f1",
   "metadata": {},
   "outputs": [
    {
     "name": "stdout",
     "output_type": "stream",
     "text": [
      "['8월 4일\\n', '여름']\n"
     ]
    }
   ],
   "source": [
    "with open('my_poem.txt','rt',encoding = 'utf-8') as f:\n",
    "    print(f.readlines())"
   ]
  },
  {
   "cell_type": "code",
   "execution_count": null,
   "id": "f0c98797",
   "metadata": {},
   "outputs": [],
   "source": []
  },
  {
   "cell_type": "code",
   "execution_count": null,
   "id": "65c63687",
   "metadata": {},
   "outputs": [],
   "source": []
  },
  {
   "cell_type": "code",
   "execution_count": null,
   "id": "5d0379ed",
   "metadata": {},
   "outputs": [],
   "source": []
  }
 ],
 "metadata": {
  "kernelspec": {
   "display_name": "Python 3 (ipykernel)",
   "language": "python",
   "name": "python3"
  },
  "language_info": {
   "codemirror_mode": {
    "name": "ipython",
    "version": 3
   },
   "file_extension": ".py",
   "mimetype": "text/x-python",
   "name": "python",
   "nbconvert_exporter": "python",
   "pygments_lexer": "ipython3",
   "version": "3.9.12"
  }
 },
 "nbformat": 4,
 "nbformat_minor": 5
}
