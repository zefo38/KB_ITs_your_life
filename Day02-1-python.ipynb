{
 "cells": [
  {
   "cell_type": "code",
   "execution_count": 1,
   "id": "e2eb00c7",
   "metadata": {},
   "outputs": [
    {
     "data": {
      "text/plain": [
       "{'홍': 70, '김': 90, '이': 95}"
      ]
     },
     "execution_count": 1,
     "metadata": {},
     "output_type": "execute_result"
    }
   ],
   "source": [
    "names = ['홍','김','이']\n",
    "scores = [70,90,95]\n",
    "score_dict = {'홍': 70, '김': 90, '이':95}\n",
    "score_dict"
   ]
  },
  {
   "cell_type": "code",
   "execution_count": 4,
   "id": "1e3b1b1a",
   "metadata": {},
   "outputs": [
    {
     "data": {
      "text/plain": [
       "['홍', '김', '이']"
      ]
     },
     "execution_count": 4,
     "metadata": {},
     "output_type": "execute_result"
    }
   ],
   "source": [
    "list(score_dict.keys())"
   ]
  },
  {
   "cell_type": "code",
   "execution_count": 5,
   "id": "b87b4c45",
   "metadata": {},
   "outputs": [
    {
     "data": {
      "text/plain": [
       "[70, 90, 95]"
      ]
     },
     "execution_count": 5,
     "metadata": {},
     "output_type": "execute_result"
    }
   ],
   "source": [
    "list(score_dict.values())"
   ]
  },
  {
   "cell_type": "code",
   "execution_count": 11,
   "id": "028d9888",
   "metadata": {},
   "outputs": [
    {
     "data": {
      "text/plain": [
       "[('홍', 70), ('김', 90), ('이', 95)]"
      ]
     },
     "execution_count": 11,
     "metadata": {},
     "output_type": "execute_result"
    }
   ],
   "source": [
    "list(score_dict.items())"
   ]
  },
  {
   "cell_type": "code",
   "execution_count": 9,
   "id": "7760e515",
   "metadata": {},
   "outputs": [
    {
     "data": {
      "text/plain": [
       "85.0"
      ]
     },
     "execution_count": 9,
     "metadata": {},
     "output_type": "execute_result"
    }
   ],
   "source": [
    "v = list(score_dict.values())\n",
    "sum(v), len(v)\n",
    "sum(v) / len(v) #평균"
   ]
  },
  {
   "cell_type": "code",
   "execution_count": 12,
   "id": "3eb68d54",
   "metadata": {},
   "outputs": [
    {
     "data": {
      "text/plain": [
       "True"
      ]
     },
     "execution_count": 12,
     "metadata": {},
     "output_type": "execute_result"
    }
   ],
   "source": [
    "\"홍\" in list(score_dict.keys())"
   ]
  },
  {
   "cell_type": "code",
   "execution_count": 25,
   "id": "871de2e7",
   "metadata": {},
   "outputs": [],
   "source": [
    "# 연습문제\n",
    "A = {'a':90, 'b':80, 'c':70}\n",
    "list1 = list(A.values())\n",
    "list1[1]\n",
    "del A['a']\n",
    "print(A)"
   ]
  },
  {
   "cell_type": "code",
   "execution_count": null,
   "id": "ef67da2b",
   "metadata": {},
   "outputs": [],
   "source": [
    "list1 = list(A.values())\n",
    "list1[1]"
   ]
  },
  {
   "cell_type": "code",
   "execution_count": null,
   "id": "c57f58b6",
   "metadata": {},
   "outputs": [],
   "source": [
    "del A['a']\n",
    "print(A)"
   ]
  },
  {
   "cell_type": "code",
   "execution_count": 24,
   "id": "2ac173df",
   "metadata": {},
   "outputs": [
    {
     "data": {
      "text/plain": [
       "{'b': 80, 'c': 70}"
      ]
     },
     "execution_count": 24,
     "metadata": {},
     "output_type": "execute_result"
    }
   ],
   "source": [
    "A"
   ]
  },
  {
   "cell_type": "code",
   "execution_count": 33,
   "id": "4f47f0dc",
   "metadata": {},
   "outputs": [
    {
     "ename": "SyntaxError",
     "evalue": "unexpected EOF while parsing (4165002423.py, line 7)",
     "output_type": "error",
     "traceback": [
      "\u001b[1;36m  Input \u001b[1;32mIn [33]\u001b[1;36m\u001b[0m\n\u001b[1;33m    print(\"남성입니다\")\u001b[0m\n\u001b[1;37m                  ^\u001b[0m\n\u001b[1;31mSyntaxError\u001b[0m\u001b[1;31m:\u001b[0m unexpected EOF while parsing\n"
     ]
    }
   ],
   "source": [
    "# if \n",
    "gender =input(\"성별을 입력하세요 (MALE or FEMALE : \")\n",
    "\n",
    "if gender == \"FEMALE\":\n",
    "    print(\"여성입니다\")\n",
    "else:((\n",
    "    print(\"남성입니다\")"
   ]
  },
  {
   "cell_type": "code",
   "execution_count": 40,
   "id": "31c89ffa",
   "metadata": {},
   "outputs": [
    {
     "name": "stdout",
     "output_type": "stream",
     "text": [
      "키와 몸무게 입력 : [155,69]\n"
     ]
    },
    {
     "ename": "ValueError",
     "evalue": "invalid literal for int() with base 10: '['",
     "output_type": "error",
     "traceback": [
      "\u001b[1;31m---------------------------------------------------------------------------\u001b[0m",
      "\u001b[1;31mValueError\u001b[0m                                Traceback (most recent call last)",
      "Input \u001b[1;32mIn [40]\u001b[0m, in \u001b[0;36m<cell line: 3>\u001b[1;34m()\u001b[0m\n\u001b[0;32m      1\u001b[0m ans \u001b[38;5;241m=\u001b[39m \u001b[38;5;28minput\u001b[39m(\u001b[38;5;124m\"\u001b[39m\u001b[38;5;124m키와 몸무게 입력 : \u001b[39m\u001b[38;5;124m\"\u001b[39m) \n\u001b[1;32m----> 3\u001b[0m height \u001b[38;5;241m=\u001b[39m \u001b[38;5;28;43mint\u001b[39;49m\u001b[43m(\u001b[49m\u001b[43mans\u001b[49m\u001b[43m[\u001b[49m\u001b[38;5;241;43m0\u001b[39;49m\u001b[43m]\u001b[49m\u001b[43m)\u001b[49m\n\u001b[0;32m      4\u001b[0m \u001b[38;5;28mprint\u001b[39m(height)\n\u001b[0;32m      5\u001b[0m weight \u001b[38;5;241m=\u001b[39m \u001b[38;5;28mint\u001b[39m(ans[\u001b[38;5;241m1\u001b[39m])\n",
      "\u001b[1;31mValueError\u001b[0m: invalid literal for int() with base 10: '['"
     ]
    }
   ],
   "source": [
    "ans = input(\"키와 몸무게 입력 : \") \n",
    "\n",
    "height = int(ans[0])\n",
    "print(height)\n",
    "weight = int(ans[1])\n",
    "print(weight)\n",
    "bmi = (weight + 100 - height)\n",
    "\n",
    "print(\"비만 수치는 %d 입니다\" % bmi)"
   ]
  },
  {
   "cell_type": "code",
   "execution_count": 89,
   "id": "69d18161",
   "metadata": {},
   "outputs": [],
   "source": [
    "# 컴1 ~ 100 난수 생성\n",
    "# 시도한 횟수가 10회 넘으면\n",
    "# 메시지 : 당신은 바보입니까?\n",
    "\n",
    "\n",
    "import random\n",
    "com = random.randint(1,100)\n",
    "trycount = 0\n",
    "try_count = 0"
   ]
  },
  {
   "cell_type": "code",
   "execution_count": 68,
   "id": "ed9a2b26",
   "metadata": {},
   "outputs": [
    {
     "name": "stdout",
     "output_type": "stream",
     "text": [
      "숫자를 맞춰보세요 (1~100) : 20\n",
      "업 ~\n",
      "13회 시도\n",
      "당신은 바보입니까?\n"
     ]
    }
   ],
   "source": [
    "\n",
    "user = int(input(\"숫자를 맞춰보세요 (1~100) : \"))\n",
    "\n",
    "\n",
    "if com == user :\n",
    "    print(\"축하 축 하 ! 정답입니다 ~ !\")\n",
    "elif com < user:\n",
    "    print(\"다운 ~\")\n",
    "    trycount += 1\n",
    "else:\n",
    "    print(\"업 ~\")\n",
    "    trycount += 1\n",
    "    \n",
    "print(\"%d회 시도\" % trycount)  \n",
    "\n",
    "if trycount >= 10:\n",
    "    print('당신은 바보입니까?')\n",
    "    \n",
    "    "
   ]
  },
  {
   "cell_type": "code",
   "execution_count": null,
   "id": "54e66c1a",
   "metadata": {},
   "outputs": [],
   "source": [
    "# 학점 판정 A:90 이상, B:80 C: 70 그외 D\n",
    "\n",
    "score = 85\n",
    "grade = \"A\"\n",
    "\n",
    "if score>=90 :\n",
    "    print(\"A\")\n",
    "    \n",
    "elif score>=80 :\n",
    "    print(\"B\")\n",
    "    \n",
    "elif score>=70:"
   ]
  },
  {
   "cell_type": "code",
   "execution_count": 72,
   "id": "0c649df4",
   "metadata": {},
   "outputs": [
    {
     "data": {
      "text/plain": [
       "'B'"
      ]
     },
     "execution_count": 72,
     "metadata": {},
     "output_type": "execute_result"
    }
   ],
   "source": [
    "score = 80\n",
    "grade1 = 'A' if score >=90 else(\"B\" if score>=80 else (\"C\" if score>=70 else \"D\"))\n",
    "grade1"
   ]
  },
  {
   "cell_type": "code",
   "execution_count": 95,
   "id": "226d6ead",
   "metadata": {},
   "outputs": [
    {
     "name": "stdout",
     "output_type": "stream",
     "text": [
      "19\n"
     ]
    }
   ],
   "source": [
    "print(com)\n",
    "number = 0"
   ]
  },
  {
   "cell_type": "code",
   "execution_count": 100,
   "id": "7c98b4eb",
   "metadata": {},
   "outputs": [],
   "source": [
    "import random\n",
    "com = random.randint(1,100)\n",
    "number = 0\n",
    "try_count = 0\n",
    "\n",
    "while com != number:\n",
    "    \n",
    "    number = int(input(\"숫자를 맞춰보세요 (1~100) : \"))\n",
    "    print(\"%d회 시도\" % try_count) \n",
    "    try_count += 1\n",
    "    \n",
    "    if com == number :\n",
    "        print(\"축하 축 하 ! 정답입니다 ~ !\")\n",
    "    elif com < number:\n",
    "        print(\"다운 ~\")\n",
    "    else:\n",
    "        print(\"업 ~\")\n",
    "\n",
    "    if try_count >= 10:\n",
    "        print('당신은 바보입니다')\n",
    "    "
   ]
  },
  {
   "cell_type": "code",
   "execution_count": 103,
   "id": "39910d29",
   "metadata": {},
   "outputs": [
    {
     "name": "stdout",
     "output_type": "stream",
     "text": [
      "1번 학생은 합격입니다.\n",
      "2번 학생은 불합격입니다.\n",
      "3번 학생은 합격입니다.\n",
      "4번 학생은 불합격입니다.\n",
      "5번 학생은 합격입니다.\n"
     ]
    }
   ],
   "source": [
    "result = [90,35,68,44,81]\n",
    "a=0\n",
    "for i in result:\n",
    "    a += 1\n",
    "    if i >= 60:\n",
    "        print(\"%d번 학생은 합격입니다.\"% a)\n",
    "    else:\n",
    "        print(\"%d번 학생은 불합격입니다.\" % a)"
   ]
  },
  {
   "cell_type": "code",
   "execution_count": 104,
   "id": "03e23bf1",
   "metadata": {},
   "outputs": [],
   "source": [
    "import random\n",
    "randomnum1 = random.randint(1,100)\n",
    "trycount2 = 0"
   ]
  },
  {
   "cell_type": "code",
   "execution_count": null,
   "id": "8bf578e0",
   "metadata": {},
   "outputs": [],
   "source": [
    "# for i in range(10):\n",
    "#     num = int(input(\"숫자를 맞춰보세요(1~99): \"))\n",
    "#     if num == randomnum1 :\n",
    "#         print(\"정답입니다\")\n",
    "        "
   ]
  },
  {
   "cell_type": "code",
   "execution_count": 116,
   "id": "835f3c2a",
   "metadata": {},
   "outputs": [
    {
     "name": "stdout",
     "output_type": "stream",
     "text": [
      "5050\n"
     ]
    }
   ],
   "source": [
    "total = 0\n",
    "\n",
    "for i in range(0,101):\n",
    "    total += i\n",
    "\n",
    "print(total)"
   ]
  },
  {
   "cell_type": "code",
   "execution_count": 1,
   "id": "81de93ac",
   "metadata": {},
   "outputs": [
    {
     "name": "stdout",
     "output_type": "stream",
     "text": [
      "3*1=3\n",
      "3*2=6\n",
      "3*3=9\n",
      "3*4=12\n",
      "3*5=15\n",
      "3*6=18\n",
      "3*7=21\n",
      "3*8=24\n",
      "3*9=27\n"
     ]
    }
   ],
   "source": [
    "dan = 3\n",
    "\n",
    "for i in range(1,10):\n",
    "    print(f\"{dan}*{i}={dan*i}\")\n",
    "    "
   ]
  },
  {
   "cell_type": "code",
   "execution_count": 4,
   "id": "f1846d90",
   "metadata": {},
   "outputs": [
    {
     "name": "stdout",
     "output_type": "stream",
     "text": [
      "1\n",
      "2\n",
      "3\n",
      "4\n",
      "5\n",
      "6\n",
      "7\n",
      "8\n",
      "9\n",
      "10\n"
     ]
    }
   ],
   "source": [
    "test2D = [[1,2,3],[4,5,6],[7,8,9,10]]\n",
    "\n",
    "for i in test2D:\n",
    "    for j in i :\n",
    "        print(j)\n",
    "    "
   ]
  },
  {
   "cell_type": "code",
   "execution_count": null,
   "id": "e0380e7d",
   "metadata": {},
   "outputs": [],
   "source": [
    "cnt = 0\n",
    "\n",
    "for i in range(10)\n",
    "print(cnt)  #20\n",
    "    "
   ]
  },
  {
   "cell_type": "code",
   "execution_count": 5,
   "id": "76700390",
   "metadata": {},
   "outputs": [],
   "source": [
    "\n",
    "for i in range(10):\n",
    "    pass"
   ]
  },
  {
   "cell_type": "code",
   "execution_count": 6,
   "id": "abea9db1",
   "metadata": {},
   "outputs": [
    {
     "data": {
      "text/plain": [
       "[0, 1, 4, 9, 16, 25, 36, 49, 64, 81]"
      ]
     },
     "execution_count": 6,
     "metadata": {},
     "output_type": "execute_result"
    }
   ],
   "source": [
    "s = [x**2 for x in range(10)]\n",
    "s"
   ]
  },
  {
   "cell_type": "code",
   "execution_count": 7,
   "id": "620da29e",
   "metadata": {},
   "outputs": [
    {
     "data": {
      "text/plain": [
       "'70-80-95'"
      ]
     },
     "execution_count": 7,
     "metadata": {},
     "output_type": "execute_result"
    }
   ],
   "source": [
    "scores = [70,80,95]\n",
    "scores = [str(s) for s in scores]\n",
    "\n",
    "\"-\".join(scores)"
   ]
  },
  {
   "cell_type": "code",
   "execution_count": 26,
   "id": "adaaf5f9",
   "metadata": {},
   "outputs": [
    {
     "name": "stdout",
     "output_type": "stream",
     "text": [
      "2\n",
      "바위\n"
     ]
    }
   ],
   "source": [
    "# 컴 1,2,3 난수로 생성 -> 가위 바위 보 출력\n",
    "# if 사용하지 않고\n",
    "\n",
    "ass = {1:'가위',2:'바위',3:'보'}\n",
    "r = random.randint(1,3)\n",
    "\n",
    "print(r)\n",
    "print(ass[r])"
   ]
  },
  {
   "cell_type": "code",
   "execution_count": 23,
   "id": "7d5291c4",
   "metadata": {},
   "outputs": [
    {
     "name": "stdout",
     "output_type": "stream",
     "text": [
      "2\n",
      "바위\n"
     ]
    }
   ],
   "source": [
    "import random \n",
    "num = random.randint(1,3)\n",
    "\n",
    "a = ['가위','바위','보']\n",
    "print(num)\n",
    "print(a[num-1])"
   ]
  },
  {
   "cell_type": "code",
   "execution_count": 28,
   "id": "c2649c4c",
   "metadata": {},
   "outputs": [
    {
     "name": "stdout",
     "output_type": "stream",
     "text": [
      "Hello\n"
     ]
    }
   ],
   "source": [
    "def my_hello():\n",
    "    print(\"Hello\")\n",
    "    \n",
    "my_hello()"
   ]
  },
  {
   "cell_type": "code",
   "execution_count": null,
   "id": "3a00cf21",
   "metadata": {},
   "outputs": [],
   "source": []
  }
 ],
 "metadata": {
  "kernelspec": {
   "display_name": "Python 3 (ipykernel)",
   "language": "python",
   "name": "python3"
  },
  "language_info": {
   "codemirror_mode": {
    "name": "ipython",
    "version": 3
   },
   "file_extension": ".py",
   "mimetype": "text/x-python",
   "name": "python",
   "nbconvert_exporter": "python",
   "pygments_lexer": "ipython3",
   "version": "3.9.12"
  }
 },
 "nbformat": 4,
 "nbformat_minor": 5
}
