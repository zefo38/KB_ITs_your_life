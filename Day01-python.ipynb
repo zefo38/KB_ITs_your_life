{
 "cells": [
  {
   "cell_type": "code",
   "execution_count": 3,
   "id": "77c61a50",
   "metadata": {},
   "outputs": [
    {
     "name": "stdout",
     "output_type": "stream",
     "text": [
      "12321\n",
      "12321\n"
     ]
    }
   ],
   "source": [
    "a = 111\n",
    "b = 111\n",
    "print(a*b)\n",
    "print(a*a)"
   ]
  },
  {
   "cell_type": "code",
   "execution_count": null,
   "id": "dc99c141",
   "metadata": {},
   "outputs": [],
   "source": [
    "# 던축키\n",
    "# 컨트롤 enter -> 실행\n",
    "# enter -> 수정 가능\n",
    "# esc 상태(명령)에서 b/a, 아래/위 추가 \n",
    "# x : 삭제, z : 되돌리기\n",
    "# 변수는 앞글자입력하고 tab 누르면 채워짐\n",
    "# 지우고 싶은 열에서 control + x\n",
    "# 주석해제:control+/"
   ]
  },
  {
   "cell_type": "code",
   "execution_count": 5,
   "id": "47e38fe7",
   "metadata": {},
   "outputs": [
    {
     "data": {
      "text/plain": [
       "111"
      ]
     },
     "execution_count": 5,
     "metadata": {},
     "output_type": "execute_result"
    }
   ],
   "source": [
    "a"
   ]
  },
  {
   "cell_type": "code",
   "execution_count": 5,
   "id": "8405680c",
   "metadata": {},
   "outputs": [
    {
     "data": {
      "text/plain": [
       "int"
      ]
     },
     "execution_count": 5,
     "metadata": {},
     "output_type": "execute_result"
    }
   ],
   "source": [
    "type(b)"
   ]
  },
  {
   "cell_type": "code",
   "execution_count": 8,
   "id": "c8e9b0f2",
   "metadata": {},
   "outputs": [
    {
     "name": "stdout",
     "output_type": "stream",
     "text": [
      "불투명필통\n"
     ]
    }
   ],
   "source": [
    "thethingsname = '불투명필통'\n",
    "print(thethingsname)"
   ]
  },
  {
   "cell_type": "code",
   "execution_count": 18,
   "id": "536cfc42",
   "metadata": {},
   "outputs": [
    {
     "name": "stdout",
     "output_type": "stream",
     "text": [
      "6\n"
     ]
    },
    {
     "data": {
      "text/plain": [
       "int"
      ]
     },
     "execution_count": 18,
     "metadata": {},
     "output_type": "execute_result"
    }
   ],
   "source": [
    "i = 100\n",
    "j = 0b110\n",
    "print(j)\n",
    "j8 = 0o76\n",
    "j16 = 0x9abcdef\n",
    "type(j16)"
   ]
  },
  {
   "cell_type": "code",
   "execution_count": 27,
   "id": "d92d2bfd",
   "metadata": {},
   "outputs": [
    {
     "data": {
      "text/plain": [
       "(2022, 8, 1)"
      ]
     },
     "execution_count": 27,
     "metadata": {},
     "output_type": "execute_result"
    }
   ],
   "source": [
    "# 빅데이터 분석 시 매번 사용함 \n",
    "\n",
    "today = 20220801\n",
    "year = today // 10000 \n",
    "month =  today % 10000 // 100\n",
    "day = today % 10000 % 100\n",
    "\n",
    "year,month, day"
   ]
  },
  {
   "cell_type": "code",
   "execution_count": 29,
   "id": "2cf064ce",
   "metadata": {},
   "outputs": [
    {
     "data": {
      "text/plain": [
       "3"
      ]
     },
     "execution_count": 29,
     "metadata": {},
     "output_type": "execute_result"
    }
   ],
   "source": [
    "\"1\" + \"2\" #  12\n",
    "1 + 2  #3\n",
    "# \"1\" + 2 # 문자열과 숫자 더하면 error\n"
   ]
  },
  {
   "cell_type": "code",
   "execution_count": 35,
   "id": "57805f05",
   "metadata": {},
   "outputs": [
    {
     "data": {
      "text/plain": [
       "True"
      ]
     },
     "execution_count": 35,
     "metadata": {},
     "output_type": "execute_result"
    }
   ],
   "source": [
    "bool (' ')"
   ]
  },
  {
   "cell_type": "code",
   "execution_count": 38,
   "id": "b27ab599",
   "metadata": {},
   "outputs": [
    {
     "data": {
      "text/plain": [
       "'홍'"
      ]
     },
     "execution_count": 38,
     "metadata": {},
     "output_type": "execute_result"
    }
   ],
   "source": [
    "S1 = \"홍\"\n",
    "S1"
   ]
  },
  {
   "cell_type": "code",
   "execution_count": 51,
   "id": "cc7a13c6",
   "metadata": {},
   "outputs": [
    {
     "data": {
      "text/plain": [
       "'구름에 달가듯이 가는 나그네 길은 외줄기 남도삼백리'"
      ]
     },
     "execution_count": 51,
     "metadata": {},
     "output_type": "execute_result"
    }
   ],
   "source": [
    "poem = \"구름에 달가듯이 가는 나그네 \\\n",
    "길은 외줄기 남도삼백리\"\n",
    "poem"
   ]
  },
  {
   "cell_type": "code",
   "execution_count": 49,
   "id": "f415591f",
   "metadata": {},
   "outputs": [
    {
     "data": {
      "text/plain": [
       "'구름에 달가듯이 가는\\n나그네 같은 외줄기 남도삼백리'"
      ]
     },
     "execution_count": 49,
     "metadata": {},
     "output_type": "execute_result"
    }
   ],
   "source": [
    "poem ='''구름에 달가듯이 가는\n",
    "나그네 같은 외줄기 남도삼백리'''\n",
    "poem"
   ]
  },
  {
   "cell_type": "code",
   "execution_count": 52,
   "id": "93312aa2",
   "metadata": {},
   "outputs": [
    {
     "data": {
      "text/plain": [
       "'1'"
      ]
     },
     "execution_count": 52,
     "metadata": {},
     "output_type": "execute_result"
    }
   ],
   "source": [
    "# 연습문제1\n",
    "\n",
    "str = '210101-1234567'\n",
    "# str[7:8]\n",
    "str[7]"
   ]
  },
  {
   "cell_type": "code",
   "execution_count": 57,
   "id": "cf1c2b9b",
   "metadata": {},
   "outputs": [
    {
     "data": {
      "text/plain": [
       "('20210101', 'Sunny')"
      ]
     },
     "execution_count": 57,
     "metadata": {},
     "output_type": "execute_result"
    }
   ],
   "source": [
    "# 연습문제2\n",
    "\n",
    "str2 = '20210101Sunny'\n",
    "date = str2[:8]\n",
    "weather = str2[8:]\n",
    "date,weather"
   ]
  },
  {
   "cell_type": "code",
   "execution_count": 3,
   "id": "4df21242",
   "metadata": {},
   "outputs": [
    {
     "name": "stdout",
     "output_type": "stream",
     "text": [
      "마우스는 28\n",
      "마우스는 28살\n"
     ]
    }
   ],
   "source": [
    "name ='마우스'\n",
    "age = 28\n",
    "\n",
    "print(name + '는 '+ str(age))\n",
    "print(\"%s는 %d살\" % (name,age))\n",
    "print(\"%s는 %s살\" % (name,age))"
   ]
  },
  {
   "cell_type": "code",
   "execution_count": 11,
   "id": "3fe5cb9f",
   "metadata": {},
   "outputs": [
    {
     "name": "stdout",
     "output_type": "stream",
     "text": [
      "현재 시간은 2022년 8월 1일 15시 29분 4초 입니다\n"
     ]
    }
   ],
   "source": [
    "import time\n",
    "\n",
    "now = time.localtime()\n",
    "print(\"현재 시간은 %d년 %d월 %d일 %d시 %d분 %d초 입니다\" % (now.tm_year, now.tm_mon,now.tm_mday,\\\n",
    "                                              now.tm_hour,now.tm_min,now.tm_sec))"
   ]
  },
  {
   "cell_type": "code",
   "execution_count": 13,
   "id": "a74a4d66",
   "metadata": {},
   "outputs": [
    {
     "name": "stdout",
     "output_type": "stream",
     "text": [
      "마우스는 28살\n",
      "마우스는 28살 . 마우스는 젋어요\n"
     ]
    }
   ],
   "source": [
    "print(\"{}는 {}살\".format(name,age))\n",
    "\n",
    "print(\"{0}는 {1}살 . {0}는 젋어요\".format(name,age))"
   ]
  },
  {
   "cell_type": "code",
   "execution_count": 19,
   "id": "c5648c55",
   "metadata": {},
   "outputs": [
    {
     "data": {
      "text/plain": [
       "'my name is 마우스, 28 years old ,1995'"
      ]
     },
     "execution_count": 19,
     "metadata": {},
     "output_type": "execute_result"
    }
   ],
   "source": [
    "f'my name is {name}, {age} years old ,{2022-age+1}'"
   ]
  },
  {
   "cell_type": "code",
   "execution_count": 20,
   "id": "8e720bfd",
   "metadata": {},
   "outputs": [
    {
     "data": {
      "text/plain": [
       "'마우스의 길이는 3'"
      ]
     },
     "execution_count": 20,
     "metadata": {},
     "output_type": "execute_result"
    }
   ],
   "source": [
    "f\"{name}의 길이는 {len(name)}\""
   ]
  },
  {
   "cell_type": "code",
   "execution_count": 21,
   "id": "9fba42de",
   "metadata": {},
   "outputs": [
    {
     "data": {
      "text/plain": [
       "True"
      ]
     },
     "execution_count": 21,
     "metadata": {},
     "output_type": "execute_result"
    }
   ],
   "source": [
    "\"nana0813\".isalnum()"
   ]
  },
  {
   "cell_type": "code",
   "execution_count": 25,
   "id": "b8177513",
   "metadata": {},
   "outputs": [
    {
     "data": {
      "text/plain": [
       "1"
      ]
     },
     "execution_count": 25,
     "metadata": {},
     "output_type": "execute_result"
    }
   ],
   "source": [
    "\"nana0813\".index(\"na\")"
   ]
  },
  {
   "cell_type": "code",
   "execution_count": 26,
   "id": "3ad7b3d3",
   "metadata": {},
   "outputs": [
    {
     "data": {
      "text/plain": [
       "2"
      ]
     },
     "execution_count": 26,
     "metadata": {},
     "output_type": "execute_result"
    }
   ],
   "source": [
    "\"nana0813\".index(\"na\",2)"
   ]
  },
  {
   "cell_type": "code",
   "execution_count": 27,
   "id": "81ab9473",
   "metadata": {},
   "outputs": [
    {
     "data": {
      "text/plain": [
       "'abc def'"
      ]
     },
     "execution_count": 27,
     "metadata": {},
     "output_type": "execute_result"
    }
   ],
   "source": [
    "\"    abc def   \".strip()"
   ]
  },
  {
   "cell_type": "code",
   "execution_count": 38,
   "id": "138b65bd",
   "metadata": {},
   "outputs": [
    {
     "name": "stdout",
     "output_type": "stream",
     "text": [
      "마우스 와 28--마우스 와 28\n"
     ]
    }
   ],
   "source": [
    "print(name, age, sep=' 와 ', end=\"--\")\n",
    "print(name, age, sep=' 와 ')"
   ]
  },
  {
   "cell_type": "code",
   "execution_count": 2,
   "id": "8a3b7c49",
   "metadata": {},
   "outputs": [
    {
     "name": "stdout",
     "output_type": "stream",
     "text": [
      "이름을 입력하세요 :patagonia\n"
     ]
    }
   ],
   "source": [
    "name1 = input(\"이름을 입력하세요 :\")"
   ]
  },
  {
   "cell_type": "code",
   "execution_count": 3,
   "id": "0bc0918f",
   "metadata": {},
   "outputs": [
    {
     "name": "stdout",
     "output_type": "stream",
     "text": [
      "patagonia\n"
     ]
    }
   ],
   "source": [
    "print(name1)"
   ]
  },
  {
   "cell_type": "code",
   "execution_count": null,
   "id": "6162e3ac",
   "metadata": {},
   "outputs": [],
   "source": [
    "a = 90\n",
    "b = 85\n",
    "\n",
    "#리스트\n",
    "class1 = [ 70, 85, 90 ]\n"
   ]
  },
  {
   "cell_type": "code",
   "execution_count": 13,
   "id": "e9497728",
   "metadata": {},
   "outputs": [
    {
     "data": {
      "text/plain": [
       "[25, 17, 45, 13, 7, 11]"
      ]
     },
     "execution_count": 13,
     "metadata": {},
     "output_type": "execute_result"
    }
   ],
   "source": [
    "import random\n",
    "\n",
    "lotto = [\n",
    "        random.randint(1,45),\n",
    "        random.randint(1,45),\n",
    "        random.randint(1,45),\n",
    "        random.randint(1,45),\n",
    "        random.randint(1,45),\n",
    "        random.randint(1,45)\n",
    "]\n",
    "lotto"
   ]
  },
  {
   "cell_type": "code",
   "execution_count": 21,
   "id": "4b4609e1",
   "metadata": {},
   "outputs": [
    {
     "data": {
      "text/plain": [
       "[100, 85, 90, 100, 85, 90, 100, 85, 90]"
      ]
     },
     "execution_count": 21,
     "metadata": {},
     "output_type": "execute_result"
    }
   ],
   "source": [
    "ar1 = [100,85,90]\n",
    "ar2 = [100,100,100]\n",
    "c = 3\n",
    "ar3 = ar1 + ar2\n",
    "ar3\n",
    "ar1 * c"
   ]
  },
  {
   "cell_type": "code",
   "execution_count": null,
   "id": "f77d99fd",
   "metadata": {},
   "outputs": [],
   "source": []
  }
 ],
 "metadata": {
  "kernelspec": {
   "display_name": "Python 3 (ipykernel)",
   "language": "python",
   "name": "python3"
  },
  "language_info": {
   "codemirror_mode": {
    "name": "ipython",
    "version": 3
   },
   "file_extension": ".py",
   "mimetype": "text/x-python",
   "name": "python",
   "nbconvert_exporter": "python",
   "pygments_lexer": "ipython3",
   "version": "3.9.12"
  }
 },
 "nbformat": 4,
 "nbformat_minor": 5
}
