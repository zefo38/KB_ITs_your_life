{
 "cells": [
  {
   "cell_type": "code",
   "execution_count": 1,
   "id": "31a5d12f",
   "metadata": {},
   "outputs": [
    {
     "name": "stdout",
     "output_type": "stream",
     "text": [
      "홍\n",
      "김\n",
      "박\n"
     ]
    }
   ],
   "source": [
    "# comprehensions\n",
    "\n",
    "score_dict = {'홍':70,'김':80,'박':90}\n",
    "\n",
    "for s in score_dict : # 키 추출\n",
    "    print(s)\n",
    "        "
   ]
  },
  {
   "cell_type": "code",
   "execution_count": 7,
   "id": "254b83ec",
   "metadata": {},
   "outputs": [
    {
     "name": "stdout",
     "output_type": "stream",
     "text": [
      "('홍', 70)\n",
      "('김', 80)\n",
      "('박', 90)\n"
     ]
    }
   ],
   "source": [
    "for s in score_dict.items():\n",
    "    print(s)"
   ]
  },
  {
   "cell_type": "code",
   "execution_count": 9,
   "id": "1479ebed",
   "metadata": {},
   "outputs": [
    {
     "name": "stdout",
     "output_type": "stream",
     "text": [
      "홍의 점수는70\n",
      "김의 점수는80\n",
      "박의 점수는90\n"
     ]
    }
   ],
   "source": [
    "for k,v in score_dict.items():\n",
    "    print(f\"{k}의 점수는{v}\")"
   ]
  },
  {
   "cell_type": "code",
   "execution_count": 11,
   "id": "2800a2e8",
   "metadata": {},
   "outputs": [
    {
     "name": "stdout",
     "output_type": "stream",
     "text": [
      "홍\n",
      "김\n",
      "박\n"
     ]
    }
   ],
   "source": [
    "for k,v in score_dict.items():\n",
    "    print(k)"
   ]
  },
  {
   "cell_type": "code",
   "execution_count": 19,
   "id": "02c9e8eb",
   "metadata": {},
   "outputs": [
    {
     "name": "stdout",
     "output_type": "stream",
     "text": [
      "Hello 감\n"
     ]
    }
   ],
   "source": [
    "# hello() -> Hello\n",
    "# hello(\"홍길동\") -> Hello 홍길동\n",
    "\n",
    "def hello(a):\n",
    "    return \"Hello \" + a\n",
    "    \n",
    "ans = hello('감')\n",
    "print(ans)"
   ]
  },
  {
   "cell_type": "code",
   "execution_count": 22,
   "id": "7bb87f70",
   "metadata": {},
   "outputs": [
    {
     "data": {
      "text/plain": [
       "-2"
      ]
     },
     "execution_count": 22,
     "metadata": {},
     "output_type": "execute_result"
    }
   ],
   "source": [
    "def calc_minus(n1, n2):\n",
    "    return n1 - n2\n",
    "\n",
    "calc_minus(5,7)"
   ]
  },
  {
   "cell_type": "code",
   "execution_count": 29,
   "id": "33112782",
   "metadata": {},
   "outputs": [
    {
     "name": "stdout",
     "output_type": "stream",
     "text": [
      "3 * 1 = 3\n",
      "3 * 2 = 6\n",
      "3 * 3 = 9\n",
      "3 * 4 = 12\n",
      "3 * 5 = 15\n",
      "3 * 6 = 18\n",
      "3 * 7 = 21\n",
      "3 * 8 = 24\n",
      "3 * 9 = 27\n"
     ]
    }
   ],
   "source": [
    "# 구구단 출력 함수\n",
    "\n",
    "def gugudan(num):\n",
    "    for i in range(1,10):\n",
    "        print (f\"{num} * {i} = {num*i}\")\n",
    "    \n",
    "gugudan(3)"
   ]
  },
  {
   "cell_type": "code",
   "execution_count": 43,
   "id": "83af7bce",
   "metadata": {},
   "outputs": [
    {
     "name": "stdout",
     "output_type": "stream",
     "text": [
      "3 * 1 = 3\n",
      "3 * 2 = 6\n",
      "3 * 3 = 9\n",
      "3 * 4 = 12\n",
      "3 * 5 = 15\n",
      "3 * 6 = 18\n",
      "3 * 7 = 21\n",
      "3 * 8 = 24\n",
      "3 * 9 = 27\n",
      "4 * 1 = 4\n",
      "4 * 2 = 8\n",
      "4 * 3 = 12\n",
      "4 * 4 = 16\n",
      "4 * 5 = 20\n",
      "4 * 6 = 24\n",
      "4 * 7 = 28\n",
      "4 * 8 = 32\n",
      "4 * 9 = 36\n",
      "5 * 1 = 5\n",
      "5 * 2 = 10\n",
      "5 * 3 = 15\n",
      "5 * 4 = 20\n",
      "5 * 5 = 25\n",
      "5 * 6 = 30\n",
      "5 * 7 = 35\n",
      "5 * 8 = 40\n",
      "5 * 9 = 45\n"
     ]
    }
   ],
   "source": [
    "\n",
    "def gugudan2(num, num1):\n",
    "    for j in range(num,num1+1):\n",
    "        for i in range(1,10):\n",
    "            print (f\"{j} * {i} = {j*i}\")\n",
    "\n",
    "gugudan2(3,5)"
   ]
  },
  {
   "cell_type": "code",
   "execution_count": 55,
   "id": "511f722d",
   "metadata": {},
   "outputs": [
    {
     "name": "stdout",
     "output_type": "stream",
     "text": [
      "0 0 0 0 0 0 0 0 0 \n",
      "1 2 3 4 5 6 7 8 9 \n",
      "2 4 6 8 10 12 14 16 18 \n",
      "3 6 9 12 15 18 21 24 27 \n",
      "4 8 12 16 20 24 28 32 36 \n",
      "5 10 15 20 25 30 35 40 45 \n"
     ]
    }
   ],
   "source": [
    "def gugudan3(num, num1):\n",
    "    for j in range(num,num1+1):\n",
    "        for i in range(1,10):\n",
    "            print (f\"{j * i}\", end=' ')\n",
    "        print( )\n",
    "        \n",
    "gugudan3(0,5)"
   ]
  },
  {
   "cell_type": "code",
   "execution_count": 66,
   "id": "be21b357",
   "metadata": {},
   "outputs": [
    {
     "name": "stdout",
     "output_type": "stream",
     "text": [
      "4 8 12 16 20 24 28 32 36 \n",
      "5 10 15 20 25 30 35 40 45 \n",
      "2 4 6 8 10 12 14 16 18 \n",
      "3 6 9 12 15 18 21 24 27 \n"
     ]
    }
   ],
   "source": [
    "# 구구단 출력\n",
    "\n",
    "def gugudan4(dan=2, dan2=0):\n",
    "    if dan2 == 0:\n",
    "        dan2 = dan\n",
    "    for d in range(dan, dan2+1): # 출력 단 범위\n",
    "        for i in range(1,10):\n",
    "            print(f\"{d*i}\", end=\" \")\n",
    "        print()\n",
    "\n",
    "gugudan4(4,5)\n",
    "gugudan4()\n",
    "gugudan4(3)"
   ]
  },
  {
   "cell_type": "code",
   "execution_count": 71,
   "id": "f0b9798f",
   "metadata": {},
   "outputs": [
    {
     "name": "stdout",
     "output_type": "stream",
     "text": [
      "['이제노']\n",
      "['이제노', '나재민']\n",
      "['이제노', '나재민', '황인준']\n"
     ]
    }
   ],
   "source": [
    "# 회원등록함수\n",
    "\n",
    "members = [] #전역 변수\n",
    "count = 0\n",
    "\n",
    "def add_member( *mems ): # 몇 명이 들어올지 모르기 때문에\n",
    "    members.extend(mems)\n",
    "    count = count \n",
    "    print(members)\n",
    "    \n",
    "\n",
    "\n",
    "\n",
    "\n",
    "\n",
    "\n",
    "add_member(\"이제노\")\n",
    "add_member(\"이제노\",\"나재민\")\n",
    "add_member(\"이제노\",\"나재민\",\"황인준\")"
   ]
  },
  {
   "cell_type": "code",
   "execution_count": 72,
   "id": "2b3bbfec",
   "metadata": {},
   "outputs": [
    {
     "name": "stdout",
     "output_type": "stream",
     "text": [
      "(20, 30)\n"
     ]
    }
   ],
   "source": [
    "def my_plus ( a, *args ):\n",
    "    print(args)\n",
    "    \n",
    "my_plus( 10,20,30 )"
   ]
  },
  {
   "cell_type": "code",
   "execution_count": 90,
   "id": "1f2b82da",
   "metadata": {},
   "outputs": [
    {
     "name": "stdout",
     "output_type": "stream",
     "text": [
      "30\n",
      "200\n"
     ]
    }
   ],
   "source": [
    "def calc_many(choice, *args):\n",
    "    if choice == \"sum\":  # SUM이 들어올 시 \n",
    "        return sum(args) # return하면 끝남\n",
    "    if choice == \"mul\":  # MUL이 들어올 시\n",
    "        tot = 1          # 곱하기이므로 초기값을 1로 설정\n",
    "        for i in args:  \n",
    "            tot *= i\n",
    "        return tot\n",
    "\n",
    "\n",
    "print(calc_many(\"sum\", 10,20))\n",
    "print(calc_many(\"mul\", 10,20))"
   ]
  },
  {
   "cell_type": "code",
   "execution_count": 92,
   "id": "88f3c6b7",
   "metadata": {},
   "outputs": [
    {
     "name": "stdout",
     "output_type": "stream",
     "text": [
      "홍 70\n",
      "김 80\n",
      "이 90\n"
     ]
    }
   ],
   "source": [
    "names = [\"홍\",\"김\",\"이\"]\n",
    "scores_eng = [70,80,90]\n",
    "\n",
    "for n,s in zip(names, scores):\n",
    "    print(n,s)"
   ]
  },
  {
   "cell_type": "code",
   "execution_count": 95,
   "id": "45823ba5",
   "metadata": {},
   "outputs": [
    {
     "data": {
      "text/plain": [
       "[1, 4, 9, 16]"
      ]
     },
     "execution_count": 95,
     "metadata": {},
     "output_type": "execute_result"
    }
   ],
   "source": [
    "# map\n",
    "\n",
    "a = [1,2,3,4]\n",
    "\n",
    "def sq(x):\n",
    "    return x**2\n",
    "\n",
    "list(map(lambda x: x**2, a))\n",
    "list(map(sq,a))"
   ]
  },
  {
   "cell_type": "code",
   "execution_count": 94,
   "id": "8704622e",
   "metadata": {},
   "outputs": [
    {
     "data": {
      "text/plain": [
       "[1, 2, 3, 4]"
      ]
     },
     "execution_count": 94,
     "metadata": {},
     "output_type": "execute_result"
    }
   ],
   "source": [
    "list(range(1,5))"
   ]
  },
  {
   "cell_type": "code",
   "execution_count": 100,
   "id": "3d46c76b",
   "metadata": {},
   "outputs": [
    {
     "data": {
      "text/plain": [
       "[2, 4, 6, 8, 10]"
      ]
     },
     "execution_count": 100,
     "metadata": {},
     "output_type": "execute_result"
    }
   ],
   "source": [
    "a = range(1,11)\n",
    "\n",
    "\n",
    "def is_even(x):\n",
    "    if x%2==0:\n",
    "        return x\n",
    "    \n",
    "list(filter(lambda x:x%2==0 , a))\n",
    "list(filter(is_even , a))"
   ]
  },
  {
   "cell_type": "code",
   "execution_count": 102,
   "id": "72fd87c1",
   "metadata": {},
   "outputs": [
    {
     "data": {
      "text/plain": [
       "[]"
      ]
     },
     "execution_count": 102,
     "metadata": {},
     "output_type": "execute_result"
    }
   ],
   "source": [
    "def is_even2(x):\n",
    "    return 0   # True를 반환하는 값 리턴\n",
    "\n",
    "list(filter(is_even2 , a))"
   ]
  },
  {
   "cell_type": "code",
   "execution_count": 126,
   "id": "508693b2",
   "metadata": {},
   "outputs": [
    {
     "data": {
      "text/plain": [
       "[[1, 1, 0, 0, 1, 9, 1, 0, 0, 0],\n",
       " [9, 2, 1, 1, 2, 2, 1, 0, 0, 0],\n",
       " [10, 4, 10, 2, 9, 1, 0, 0, 0, 0],\n",
       " [11, 9, 2, 0, 1, 0, 0, 0, 0, 0],\n",
       " [1, 1, 0, 0, 0, 0, 1, 1, 0, 0],\n",
       " [0, 0, 0, 0, 0, 1, 9, 1, 0, 0],\n",
       " [0, 0, 0, 0, 0, 0, 1, 0, 0, 0],\n",
       " [0, 0, 0, 0, 0, 0, 0, 0, 0, 0],\n",
       " [0, 0, 0, 1, 2, 1, 0, 0, 0, 0],\n",
       " [0, 0, 1, 10, 9, 1, 0, 0, 0, 0]]"
      ]
     },
     "execution_count": 126,
     "metadata": {},
     "output_type": "execute_result"
    }
   ],
   "source": [
    "# 지뢰 찾기 ( 빨리 찾아 터트리기 )\n",
    "# 필드(2차원 리스트)\n",
    "\n",
    "fields = list()\n",
    "\n",
    "for i in range(10):\n",
    "    fields.append([0]*10)\n",
    "    \n",
    "\n",
    "\n",
    "# 10개의 지뢰를 임의의 위치에 저장\n",
    "import random\n",
    "nums = list(range(100))\n",
    "\n",
    "for i in random.sample(nums,10):\n",
    "    row = i // 10  # 행 몫\n",
    "    col = i % 10   # 나머지\n",
    "    fields[row][col] = 9\n",
    "    \n",
    "    # 8방 위치 1 증가\n",
    "    if row < (len(fields)-1) :\n",
    "        fields[row+1][col]   += 1   #남\n",
    "    if row < (len(fields)-1) & col < (len(fields)-1) :\n",
    "        fields[row+1][col+1] += 1   #남동\n",
    "    if col < (len(fields)-1) :\n",
    "        fields[row][col+1]   += 1   #동\n",
    "    if row > 0 & col < (len(fields)-1) :\n",
    "        fields[row-1][col+1] += 1   #북동\n",
    "    if row > 0:\n",
    "        fields[row-1][col]   += 1   #북\n",
    "    if row > 0 & col > 0 :\n",
    "        fields[row-1][col-1] += 1   #북서\n",
    "    if col > 0 :\n",
    "        fields[row][col-1]   += 1   #서\n",
    "    if row < (len(fields)-1) & col > 0 :\n",
    "        fields[row+1][col-1] += 1   #남서\n",
    "    \n",
    "    \n",
    "    \n",
    "fields"
   ]
  },
  {
   "cell_type": "code",
   "execution_count": 134,
   "id": "14710669",
   "metadata": {},
   "outputs": [
    {
     "name": "stdout",
     "output_type": "stream",
     "text": [
      "행 좌표 입력 : (0~9)1\n",
      "열 좌표 입력 : (0~9)0\n"
     ]
    },
    {
     "data": {
      "text/plain": [
       "[['-', '-', '-', '-', '-', '-', '-', '-', '-', '-'],\n",
       " ['9', '-', '-', '-', '-', '-', '-', '-', '-', '-'],\n",
       " ['-', '-', '-', '-', '-', '-', '-', '-', '-', '-'],\n",
       " ['-', '-', '-', '-', '-', '-', '-', '-', '-', '-'],\n",
       " ['-', '-', '-', '-', '-', '-', '-', '-', '-', '-'],\n",
       " ['-', '-', '-', '-', '-', '-', '-', '-', '-', '-'],\n",
       " ['-', '-', '-', '-', '-', '-', '-', '-', '-', '-'],\n",
       " ['-', '-', '-', '-', '-', '-', '-', '-', '-', '-'],\n",
       " ['-', '-', '-', '-', '-', '-', '-', '-', '-', '-'],\n",
       " ['-', '-', '-', '-', '-', '-', '-', '-', '-', '-']]"
      ]
     },
     "metadata": {},
     "output_type": "display_data"
    },
    {
     "name": "stdout",
     "output_type": "stream",
     "text": [
      " ----- 지뢰를 찾았습니다 ----- \n",
      " ---9개의 지뢰가 남았습니다--- \n"
     ]
    },
    {
     "ename": "KeyboardInterrupt",
     "evalue": "Interrupted by user",
     "output_type": "error",
     "traceback": [
      "\u001b[1;31m---------------------------------------------------------------------------\u001b[0m",
      "\u001b[1;31mKeyboardInterrupt\u001b[0m                         Traceback (most recent call last)",
      "Input \u001b[1;32mIn [134]\u001b[0m, in \u001b[0;36m<cell line: 10>\u001b[1;34m()\u001b[0m\n\u001b[0;32m      8\u001b[0m findMineCounter \u001b[38;5;241m=\u001b[39m \u001b[38;5;241m0\u001b[39m \u001b[38;5;66;03m#찾은 지뢰 개수\u001b[39;00m\n\u001b[0;32m     10\u001b[0m \u001b[38;5;28;01mwhile\u001b[39;00m findMineCounter \u001b[38;5;241m!=\u001b[39m \u001b[38;5;241m10\u001b[39m: \u001b[38;5;66;03m# 10개 못 찾으면 계속 반복\u001b[39;00m\n\u001b[0;32m     11\u001b[0m     \n\u001b[0;32m     12\u001b[0m     \u001b[38;5;66;03m# 2. 오픈할 좌표 입력받기\u001b[39;00m\n\u001b[1;32m---> 13\u001b[0m     row \u001b[38;5;241m=\u001b[39m \u001b[38;5;28mint\u001b[39m(\u001b[38;5;28;43minput\u001b[39;49m\u001b[43m(\u001b[49m\u001b[38;5;124;43m\"\u001b[39;49m\u001b[38;5;124;43m행 좌표 입력 : (0~9)\u001b[39;49m\u001b[38;5;124;43m\"\u001b[39;49m\u001b[43m)\u001b[49m)\n\u001b[0;32m     14\u001b[0m     col \u001b[38;5;241m=\u001b[39m \u001b[38;5;28mint\u001b[39m(\u001b[38;5;28minput\u001b[39m(\u001b[38;5;124m\"\u001b[39m\u001b[38;5;124m열 좌표 입력 : (0~9)\u001b[39m\u001b[38;5;124m\"\u001b[39m))\n\u001b[0;32m     16\u001b[0m     \u001b[38;5;66;03m# 3. fields의 오픈할 좌표값을 출력용 2차원 배열에 복사\u001b[39;00m\n",
      "File \u001b[1;32m~\\anaconda3\\lib\\site-packages\\ipykernel\\kernelbase.py:1075\u001b[0m, in \u001b[0;36mKernel.raw_input\u001b[1;34m(self, prompt)\u001b[0m\n\u001b[0;32m   1071\u001b[0m \u001b[38;5;28;01mif\u001b[39;00m \u001b[38;5;129;01mnot\u001b[39;00m \u001b[38;5;28mself\u001b[39m\u001b[38;5;241m.\u001b[39m_allow_stdin:\n\u001b[0;32m   1072\u001b[0m     \u001b[38;5;28;01mraise\u001b[39;00m StdinNotImplementedError(\n\u001b[0;32m   1073\u001b[0m         \u001b[38;5;124m\"\u001b[39m\u001b[38;5;124mraw_input was called, but this frontend does not support input requests.\u001b[39m\u001b[38;5;124m\"\u001b[39m\n\u001b[0;32m   1074\u001b[0m     )\n\u001b[1;32m-> 1075\u001b[0m \u001b[38;5;28;01mreturn\u001b[39;00m \u001b[38;5;28;43mself\u001b[39;49m\u001b[38;5;241;43m.\u001b[39;49m\u001b[43m_input_request\u001b[49m\u001b[43m(\u001b[49m\n\u001b[0;32m   1076\u001b[0m \u001b[43m    \u001b[49m\u001b[38;5;28;43mstr\u001b[39;49m\u001b[43m(\u001b[49m\u001b[43mprompt\u001b[49m\u001b[43m)\u001b[49m\u001b[43m,\u001b[49m\n\u001b[0;32m   1077\u001b[0m \u001b[43m    \u001b[49m\u001b[38;5;28;43mself\u001b[39;49m\u001b[38;5;241;43m.\u001b[39;49m\u001b[43m_parent_ident\u001b[49m\u001b[43m[\u001b[49m\u001b[38;5;124;43m\"\u001b[39;49m\u001b[38;5;124;43mshell\u001b[39;49m\u001b[38;5;124;43m\"\u001b[39;49m\u001b[43m]\u001b[49m\u001b[43m,\u001b[49m\n\u001b[0;32m   1078\u001b[0m \u001b[43m    \u001b[49m\u001b[38;5;28;43mself\u001b[39;49m\u001b[38;5;241;43m.\u001b[39;49m\u001b[43mget_parent\u001b[49m\u001b[43m(\u001b[49m\u001b[38;5;124;43m\"\u001b[39;49m\u001b[38;5;124;43mshell\u001b[39;49m\u001b[38;5;124;43m\"\u001b[39;49m\u001b[43m)\u001b[49m\u001b[43m,\u001b[49m\n\u001b[0;32m   1079\u001b[0m \u001b[43m    \u001b[49m\u001b[43mpassword\u001b[49m\u001b[38;5;241;43m=\u001b[39;49m\u001b[38;5;28;43;01mFalse\u001b[39;49;00m\u001b[43m,\u001b[49m\n\u001b[0;32m   1080\u001b[0m \u001b[43m\u001b[49m\u001b[43m)\u001b[49m\n",
      "File \u001b[1;32m~\\anaconda3\\lib\\site-packages\\ipykernel\\kernelbase.py:1120\u001b[0m, in \u001b[0;36mKernel._input_request\u001b[1;34m(self, prompt, ident, parent, password)\u001b[0m\n\u001b[0;32m   1117\u001b[0m             \u001b[38;5;28;01mbreak\u001b[39;00m\n\u001b[0;32m   1118\u001b[0m \u001b[38;5;28;01mexcept\u001b[39;00m \u001b[38;5;167;01mKeyboardInterrupt\u001b[39;00m:\n\u001b[0;32m   1119\u001b[0m     \u001b[38;5;66;03m# re-raise KeyboardInterrupt, to truncate traceback\u001b[39;00m\n\u001b[1;32m-> 1120\u001b[0m     \u001b[38;5;28;01mraise\u001b[39;00m \u001b[38;5;167;01mKeyboardInterrupt\u001b[39;00m(\u001b[38;5;124m\"\u001b[39m\u001b[38;5;124mInterrupted by user\u001b[39m\u001b[38;5;124m\"\u001b[39m) \u001b[38;5;28;01mfrom\u001b[39;00m \u001b[38;5;28mNone\u001b[39m\n\u001b[0;32m   1121\u001b[0m \u001b[38;5;28;01mexcept\u001b[39;00m \u001b[38;5;167;01mException\u001b[39;00m:\n\u001b[0;32m   1122\u001b[0m     \u001b[38;5;28mself\u001b[39m\u001b[38;5;241m.\u001b[39mlog\u001b[38;5;241m.\u001b[39mwarning(\u001b[38;5;124m\"\u001b[39m\u001b[38;5;124mInvalid Message:\u001b[39m\u001b[38;5;124m\"\u001b[39m, exc_info\u001b[38;5;241m=\u001b[39m\u001b[38;5;28;01mTrue\u001b[39;00m)\n",
      "\u001b[1;31mKeyboardInterrupt\u001b[0m: Interrupted by user"
     ]
    }
   ],
   "source": [
    "\n",
    "# 1. 오픈한 자리의 숫자를 출력하기 위한 2차원 리스트 만들기\n",
    "fields2 = []\n",
    "for i in range(10):\n",
    "    fields2.append([\"-\"]*10)\n",
    "    \n",
    "fields2\n",
    "\n",
    "findMineCounter = 0 #찾은 지뢰 개수\n",
    "\n",
    "while findMineCounter != 10: # 10개 못 찾으면 계속 반복\n",
    "    \n",
    "    # 2. 오픈할 좌표 입력받기\n",
    "    row = int(input(\"행 좌표 입력 : (0~9)\"))\n",
    "    col = int(input(\"열 좌표 입력 : (0~9)\"))\n",
    "\n",
    "    # 3. fields의 오픈할 좌표값을 출력용 2차원 배열에 복사\n",
    "    fields2[row][col] = str(fields[row][col])\n",
    "\n",
    "    # 4. 출력용 2차원 배열 출력\n",
    "    display(fields2)\n",
    "\n",
    "    # 5. 만약 지뢰좌표이면 남은 지뢰수 표시\n",
    "    if fields[row][col] >= 9 :\n",
    "        findMineCounter += 1\n",
    "        print(\" ----- 지뢰를 찾았습니다 ----- \")\n",
    "        print(f\" ---{10-findMineCounter}개의 지뢰가 남았습니다--- \")\n",
    "        \n",
    "    # 6. 만약 모든 지뢰 오픈했으면 게임 종료 아니면 2번부터 다시"
   ]
  },
  {
   "cell_type": "code",
   "execution_count": null,
   "id": "7050ef90",
   "metadata": {},
   "outputs": [],
   "source": []
  }
 ],
 "metadata": {
  "kernelspec": {
   "display_name": "Python 3 (ipykernel)",
   "language": "python",
   "name": "python3"
  },
  "language_info": {
   "codemirror_mode": {
    "name": "ipython",
    "version": 3
   },
   "file_extension": ".py",
   "mimetype": "text/x-python",
   "name": "python",
   "nbconvert_exporter": "python",
   "pygments_lexer": "ipython3",
   "version": "3.9.12"
  }
 },
 "nbformat": 4,
 "nbformat_minor": 5
}
