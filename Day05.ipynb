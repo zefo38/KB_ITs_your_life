{
 "cells": [
  {
   "cell_type": "code",
   "execution_count": 3,
   "id": "abad092b",
   "metadata": {},
   "outputs": [
    {
     "name": "stdout",
     "output_type": "stream",
     "text": [
      "1\n",
      "3\n",
      "5\n",
      "7\n",
      "9\n",
      "Done\n"
     ]
    }
   ],
   "source": [
    "for i in range(10):\n",
    "    if i % 2 == 0:\n",
    "        continue\n",
    "#         print(i)    \n",
    "    print(i)\n",
    "print(\"Done\")"
   ]
  },
  {
   "cell_type": "code",
   "execution_count": 6,
   "id": "ac9b0435",
   "metadata": {},
   "outputs": [
    {
     "name": "stdout",
     "output_type": "stream",
     "text": [
      "Done\n"
     ]
    }
   ],
   "source": [
    "for i in range(10):\n",
    "    if i % 2 == 0:\n",
    "        break\n",
    "        print(i)    \n",
    "    else:\n",
    "        print(i)\n",
    "print(\"Done\")"
   ]
  },
  {
   "cell_type": "code",
   "execution_count": 8,
   "id": "59ef3dee",
   "metadata": {},
   "outputs": [
    {
     "data": {
      "text/plain": [
       "[('나', '이'), ('재', '제'), ('민', '노')]"
      ]
     },
     "execution_count": 8,
     "metadata": {},
     "output_type": "execute_result"
    }
   ],
   "source": [
    "a  = ['나','재','민']\n",
    "b = ['이','제','노']\n",
    "list(zip(a,b))"
   ]
  },
  {
   "cell_type": "code",
   "execution_count": null,
   "id": "895e4814",
   "metadata": {},
   "outputs": [],
   "source": [
    "\"\"\"\n",
    "프로그래밍시 개발 요령\n",
    "\n",
    "1. 기능 분할\n",
    "- 데이터 관리(데이터 정의 , 데이터 관리 객체-CRUD)\n",
    "- UI 모듈\n",
    "- IO 모듈(네트워크 포함)\n",
    "\n",
    "\"\"\""
   ]
  },
  {
   "cell_type": "code",
   "execution_count": 63,
   "id": "540d839e",
   "metadata": {},
   "outputs": [
    {
     "name": "stdout",
     "output_type": "stream",
     "text": [
      "박,010-111-2222,None,None\n",
      "나,010-111-2222,dream.com,친구\n"
     ]
    }
   ],
   "source": [
    "# 데이터정의\n",
    "# 관리할대상 - 연락처\n",
    "# 연락처 속성 - 이름 :     문자열(필), \n",
    "#               전화번호 : 문자열(필), \n",
    "#               이메일 :   문자열(선), \n",
    "#               설명 :     문자열(선)\n",
    "\n",
    "class Contact:\n",
    "    def __init__(self, name, tel, email=None, note=None):\n",
    "        self.name  = name\n",
    "        self.tel   = tel\n",
    "        self.email = email\n",
    "        self.note  = note\n",
    "    \n",
    "    def __str__(self):\n",
    "        return f\"{self.name},{self.tel},{self.email},{self.note}\"\n",
    "\n",
    "c = Contact(\"박\",\"010-111-2222\")\n",
    "print(c)\n",
    "c = Contact(\"나\",\"010-111-2222\",\"dream.com\",\"친구\")\n",
    "print(c)\n"
   ]
  },
  {
   "cell_type": "code",
   "execution_count": 64,
   "id": "3bb00ca0",
   "metadata": {},
   "outputs": [
    {
     "name": "stdout",
     "output_type": "stream",
     "text": [
      "나,010-111-2222,dream.com,친구\n"
     ]
    }
   ],
   "source": [
    "# 데이터관리자 객체(Manager)\n",
    "\n",
    "contacts = []\n",
    "\n",
    "# 등록\n",
    "\n",
    "contacts.append(c)\n",
    "\n",
    "# 목록\n",
    "\n",
    "for c in contacts:\n",
    "    print(c)\n",
    "\n",
    "# 검색\n",
    "\n",
    "for c in contacts:\n",
    "    if c.name == '박':\n",
    "        print(c)"
   ]
  },
  {
   "cell_type": "code",
   "execution_count": 65,
   "id": "5725fd07",
   "metadata": {},
   "outputs": [
    {
     "name": "stdout",
     "output_type": "stream",
     "text": [
      "2\n",
      "[]\n",
      "['010-111-2222', '010-111-2222']\n",
      "[<__main__.Contact object at 0x00000236761C1DF0>]\n"
     ]
    }
   ],
   "source": [
    "# 데이터 관리자 객체(Manager)\n",
    "\n",
    "class ContactManager:\n",
    "    def __init__(self):\n",
    "        self.contacts = []\n",
    "    \n",
    "    def add(self, c):\n",
    "        self.contacts.append(c)\n",
    "    \n",
    "    def count(self):\n",
    "        return len(self.contacts)\n",
    "    \n",
    "    def list(self, target=\"note\"):\n",
    "        ans = []\n",
    "        for c in self.contacts:\n",
    "            if target == 'name':\n",
    "                ans.append( c.name )\n",
    "            elif target == 'tel':\n",
    "                ans.append( c.tel)\n",
    "        return ans\n",
    "    \n",
    "    def search(self,keyword,target=\"name\"):\n",
    "        ans = []\n",
    "        for c in self.contacts:\n",
    "            if target == 'name':\n",
    "                if c.name == keyword:\n",
    "                    ans.append(c)\n",
    "            elif target == 'tel':\n",
    "                if c.tel == keyword:\n",
    "                    ans.append(c)\n",
    "        return ans\n",
    "    \n",
    "    def delete(self,keyword,target=\"name\"):\n",
    "        ans = []\n",
    "        for c in self.contacts:\n",
    "            if target == 'name':\n",
    "                if c.name == keyword:\n",
    "                    self.contacts.remove(c)\n",
    "            elif target == 'tel':\n",
    "                if c.tel == keyword:\n",
    "                    self.contacts.remove(c)\n",
    "\n",
    "mgr = ContactManager()\n",
    "    \n",
    "c = Contact(\"박\",\"010-111-2222\")\n",
    "mgr.add( c )   # 등록\n",
    "c = Contact(\"나\",\"010-111-2222\",\"dream.com\",\"친구\")\n",
    "mgr.add( c )   \n",
    "\n",
    "print(mgr.count())\n",
    "ans = mgr.list()\n",
    "print(ans)\n",
    "\n",
    "ans = mgr.list(target=\"tel\")\n",
    "print(ans)\n",
    "c = mgr.search( \"박\" )\n",
    "print(c)"
   ]
  },
  {
   "cell_type": "code",
   "execution_count": 47,
   "id": "646950ee",
   "metadata": {},
   "outputs": [],
   "source": [
    "mgr.delete(\"박\",target=\"name\")\n",
    "c"
   ]
  },
  {
   "cell_type": "code",
   "execution_count": null,
   "id": "20a76313",
   "metadata": {},
   "outputs": [
    {
     "name": "stdout",
     "output_type": "stream",
     "text": [
      "* 연락처 관리 *\n",
      "등록개수 : 0개\n",
      "(1)등록 (2)목록 (3)검색 (9)종료\n",
      "\n",
      "메뉴 번호를 입력 : 3\n",
      "*** 프로그램 종료 ***\n",
      "* 연락처 관리 *\n",
      "등록개수 : 0개\n",
      "(1)등록 (2)목록 (3)검색 (9)종료\n",
      "\n",
      "메뉴 번호를 입력 : 1\n",
      "** 연락처 등록 **\n",
      "등록할 이름 입력: 박나김\n",
      "등록할 전화번호 입력: 001000\n",
      "등록할 이메일 입력: ㄷ\n",
      "등록할 설명 입력: 테스트\n",
      "*** 프로그램 종료 ***\n",
      "* 연락처 관리 *\n",
      "등록개수 : 1개\n",
      "(1)등록 (2)목록 (3)검색 (9)종료\n",
      "\n"
     ]
    }
   ],
   "source": [
    "class ContactUI:\n",
    "    def __init__(self):\n",
    "        self.mgr = ContactManager()\n",
    "        \n",
    "    def start(self):\n",
    "        while True:\n",
    "            self.show_main_menu()\n",
    "            try:\n",
    "                ans = int(input(\"메뉴 번호를 입력 : \"))\n",
    "            except:\n",
    "                continue\n",
    "                \n",
    "            if ans == 9 : break\n",
    "            if ans == 1 :\n",
    "                self.ui_regist()\n",
    "    #             elif ans == 2 :\n",
    "    #                 show_list()\n",
    "    #             elif ans == 3 :\n",
    "    #                 find_contact()\n",
    "            print(\"*** 프로그램 종료 ***\")\n",
    "     \n",
    "    def ui_regist(self):\n",
    "        print(\"** 연락처 등록 **\")\n",
    "        name  = input(\"등록할 이름 입력: \")\n",
    "        tel   = input(\"등록할 전화번호 입력: \")\n",
    "        email = input(\"등록할 이메일 입력: \")\n",
    "        note  = input(\"등록할 설명 입력: \")\n",
    "        c = Contact(name, tel, email, note)\n",
    "        self.mgr.add(c)\n",
    "    \n",
    "    def show_main_menu(self):\n",
    "        print(\"* 연락처 관리 *\")\n",
    "        print(f\"등록개수 : {self.mgr.count()}개\")\n",
    "        print(\"(1)등록 (2)목록 (3)검색 (9)종료\")\n",
    "        print()\n",
    "        \n",
    "ui = ContactUI()\n",
    "ui.start()"
   ]
  },
  {
   "cell_type": "code",
   "execution_count": null,
   "id": "7cd3bdec",
   "metadata": {},
   "outputs": [],
   "source": []
  },
  {
   "cell_type": "code",
   "execution_count": null,
   "id": "0082ddd4",
   "metadata": {},
   "outputs": [],
   "source": []
  },
  {
   "cell_type": "code",
   "execution_count": null,
   "id": "c46a182d",
   "metadata": {},
   "outputs": [],
   "source": []
  },
  {
   "cell_type": "code",
   "execution_count": null,
   "id": "ce299ac6",
   "metadata": {},
   "outputs": [],
   "source": []
  },
  {
   "cell_type": "code",
   "execution_count": null,
   "id": "134f95d4",
   "metadata": {},
   "outputs": [],
   "source": []
  },
  {
   "cell_type": "code",
   "execution_count": null,
   "id": "9e19f998",
   "metadata": {},
   "outputs": [],
   "source": []
  }
 ],
 "metadata": {
  "kernelspec": {
   "display_name": "Python 3 (ipykernel)",
   "language": "python",
   "name": "python3"
  },
  "language_info": {
   "codemirror_mode": {
    "name": "ipython",
    "version": 3
   },
   "file_extension": ".py",
   "mimetype": "text/x-python",
   "name": "python",
   "nbconvert_exporter": "python",
   "pygments_lexer": "ipython3",
   "version": "3.9.12"
  }
 },
 "nbformat": 4,
 "nbformat_minor": 5
}
