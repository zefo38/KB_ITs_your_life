{
 "cells": [
  {
   "cell_type": "code",
   "execution_count": 34,
   "id": "03e0b2b8",
   "metadata": {},
   "outputs": [
    {
     "name": "stdout",
     "output_type": "stream",
     "text": [
      "200\n",
      "100.0\n",
      "314.0\n",
      "314.1592\n"
     ]
    }
   ],
   "source": [
    "# Q1. 넒이 계산기\n",
    "# 도형의 모양과 정보를 입력받아 넓이를 출력하는 함수를 작성하세요.\n",
    "# 매개변수 : width = 0, height = 0, radius = 0,\n",
    "# pi = 3.14, shape = '' (모두 디폴트 매개변수로 설정)\n",
    "# shape가 'circle' 이면 원의 넓이, \n",
    "# 'triangle' 이면 삼각형의 넓이, \n",
    "# 'rectangle' 이면 사각형의 넓이를 출력하세요.\n",
    "\n",
    "\n",
    "def getArea(width = 0, height = 0, radius = 0, pi = 3.14, shape = '') :\n",
    "    \n",
    "    if shape == 'circle':\n",
    "        print(radius*radius*pi) \n",
    "    elif shape == 'triangle':\n",
    "        print (width*height*0.5)\n",
    "    elif shape == 'rectangle':\n",
    "        print (width*height)\n",
    "        \n",
    "\n",
    "# width 10, height 20 인 직사각형의 넓이를 구하세요.\n",
    "getArea(10, 20, shape = 'rectangle')\n",
    "\n",
    "# width 10, height 20 인 삼각형의 넓이를 구하세요.\n",
    "getArea(10, 20, shape = 'triangle')\n",
    "\n",
    "# radius 10 인 원의 넓이를 구하세요.\n",
    "getArea(radius = 10, shape = 'circle')\n",
    "\n",
    "# radius 10, pi 3.141592 인 원의 넓이를 구하세요.\n",
    "getArea(radius = 10, pi = 3.141592, shape = 'circle')"
   ]
  },
  {
   "cell_type": "code",
   "execution_count": null,
   "id": "0c9a1d37",
   "metadata": {},
   "outputs": [],
   "source": []
  },
  {
   "cell_type": "code",
   "execution_count": 33,
   "id": "39a363de",
   "metadata": {},
   "outputs": [
    {
     "name": "stdout",
     "output_type": "stream",
     "text": [
      "학점을 입력하세요.(ex. A+,B,D,B+,C) : A+,B,D,B+,C\n",
      "당신의 학점은 2.8입니다.\n"
     ]
    }
   ],
   "source": [
    "# Q2. 학점 계산기\n",
    "# 학점을 입력받아 평균 점수를 반환하는 함수를 작성하세요.\n",
    "# 매개변수 : grades (학점이 ','로 구분되어있는 문자열)\n",
    "# ex) \"A+,B,D,B+,C\"\n",
    "# 다음 점수 변환 규칙에 따라 계산하여 평균 점수를 리턴\n",
    "# 'A+' : 4.5, 'A' : 4.0, 'B+' : 3.5, 'B': 3.0, 'C' : 2.0, 'D' : 1.0\n",
    "\n",
    "\n",
    "def getMeanScore(grades) :\n",
    "    grades= list(grades.split(','))\n",
    "    score = 0\n",
    "    for i in grades:\n",
    "        if i == 'A+':\n",
    "            score += 4.5\n",
    "            \n",
    "        elif i == 'A':\n",
    "            score += 4\n",
    "            \n",
    "        elif i == 'B+':\n",
    "            score += 3.5\n",
    "            \n",
    "        elif i == 'B':\n",
    "            score += 3.0\n",
    "            \n",
    "        elif i == 'C':\n",
    "            score += 2.0\n",
    "        \n",
    "        else:\n",
    "            score += 1.0\n",
    "            \n",
    "    print (f\"당신의 학점은 {score / (len(grades))}입니다.\")\n",
    "    \n",
    "grades = input('학점을 입력하세요.(ex. A+,B,D,B+,C) : ')\n",
    "getMeanScore(grades)\n"
   ]
  },
  {
   "cell_type": "code",
   "execution_count": 2,
   "id": "838dd6db",
   "metadata": {},
   "outputs": [],
   "source": [
    "def getMeanScore2(grades) :\n",
    "    scores = grades.split(',')\n",
    "    total_score = 0.0\n",
    "    score_dict = {'A+' : 4.5, 'A' : 4.0, 'B+' : 3.5, 'B': 3.0, 'C' : 2.0, 'D' : 1.0}\n",
    "    for i in scores:\n",
    "        total_score += score_dict[i]\n",
    "        \n",
    "    return total_score / len(scores)"
   ]
  },
  {
   "cell_type": "code",
   "execution_count": null,
   "id": "294d820e",
   "metadata": {},
   "outputs": [],
   "source": []
  }
 ],
 "metadata": {
  "kernelspec": {
   "display_name": "Python 3 (ipykernel)",
   "language": "python",
   "name": "python3"
  },
  "language_info": {
   "codemirror_mode": {
    "name": "ipython",
    "version": 3
   },
   "file_extension": ".py",
   "mimetype": "text/x-python",
   "name": "python",
   "nbconvert_exporter": "python",
   "pygments_lexer": "ipython3",
   "version": "3.9.12"
  }
 },
 "nbformat": 4,
 "nbformat_minor": 5
}
