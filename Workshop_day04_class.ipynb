{
 "cells": [
  {
   "cell_type": "markdown",
   "metadata": {},
   "source": [
    "### Q1\n",
    "- Car 클래스를 아래 메소드에 맞춰 정의하세요.\n",
    "- \\_\\_init\\_\\_ 메소드\n",
    "    - 매개변수 : self, year, driving_distance\n",
    "    - 각 매개변수는 속성으로 저장\n",
    "- info 메소드\n",
    "    - 매개변수 : self\n",
    "    - 속성에 대한 정보를 한 줄씩 출력\n",
    "- drive 메소드\n",
    "    - 매개변수 : self, distance\n",
    "    - driving_distance 속성에 distance를 누적하여 더함\n",
    "    - \"(distance) km를 주행하였습니다.\" 출력"
   ]
  },
  {
   "cell_type": "code",
   "execution_count": 36,
   "metadata": {
    "ExecuteTime": {
     "end_time": "2022-02-17T05:49:23.957670Z",
     "start_time": "2022-02-17T05:49:23.933909Z"
    }
   },
   "outputs": [],
   "source": [
    "class Car :\n",
    "    distance = 0\n",
    "    \n",
    "    def __init__(self, year, driving_distance):\n",
    "        self.year             = year\n",
    "        self.driving_distance = driving_distance\n",
    "    \n",
    "    def info(self):\n",
    "        print(\"* 차 정보 *\")\n",
    "        print(f\"- 연식 : {self.year}년식\")\n",
    "        print(f\"- 주행 거리 : {self.driving_distance} km\")\n",
    "        \n",
    "    def drive(self,distance):\n",
    "        self.driving_distance += distance\n",
    "        print(f\"{self.driving_distance} km를 주행하였습니다.\")\n",
    "\n",
    "\n",
    "\n"
   ]
  },
  {
   "cell_type": "code",
   "execution_count": 37,
   "metadata": {
    "ExecuteTime": {
     "end_time": "2022-02-17T05:52:31.540194Z",
     "start_time": "2022-02-17T05:52:31.534226Z"
    }
   },
   "outputs": [
    {
     "name": "stdout",
     "output_type": "stream",
     "text": [
      "* 차 정보 *\n",
      "- 연식 : 1999년식\n",
      "- 주행 거리 : 30000 km\n"
     ]
    }
   ],
   "source": [
    "# Car 클래스의 인스턴스를 생성하여 myCar 에 저장하세요.\n",
    "# year = 1999, driving_distance = 30000\n",
    "myCar = Car(year = 1999, driving_distance = 30000)\n",
    "\n",
    "# myCar의 정보를 출력하세요.\n",
    "myCar.info()"
   ]
  },
  {
   "cell_type": "code",
   "execution_count": 38,
   "metadata": {
    "ExecuteTime": {
     "end_time": "2022-02-17T05:53:19.192917Z",
     "start_time": "2022-02-17T05:53:19.177166Z"
    }
   },
   "outputs": [
    {
     "name": "stdout",
     "output_type": "stream",
     "text": [
      "30100 km를 주행하였습니다.\n",
      "* 차 정보 *\n",
      "- 연식 : 1999년식\n",
      "- 주행 거리 : 30100 km\n"
     ]
    }
   ],
   "source": [
    "# 100 km 주행 후 정보를 출력하세요.\n",
    "myCar.drive(100)\n",
    "myCar.info()"
   ]
  },
  {
   "cell_type": "code",
   "execution_count": 49,
   "metadata": {
    "ExecuteTime": {
     "end_time": "2022-02-17T05:53:30.762171Z",
     "start_time": "2022-02-17T05:53:30.746141Z"
    }
   },
   "outputs": [
    {
     "name": "stdout",
     "output_type": "stream",
     "text": [
      "31100 km를 주행하였습니다.\n",
      "* 차 정보 *\n",
      "- 연식 : 1999년식\n",
      "- 주행 거리 : 31100 km\n"
     ]
    }
   ],
   "source": [
    "# 500 km 주행 후 정보를 출력하세요.\n",
    "myCar.drive(500)\n",
    "myCar.info()"
   ]
  },
  {
   "cell_type": "markdown",
   "metadata": {},
   "source": [
    "<br/>\n",
    "<br/>\n",
    "<br/>\n",
    "<br/>"
   ]
  },
  {
   "cell_type": "markdown",
   "metadata": {},
   "source": [
    "### Q2\n",
    "- Car 클래스를 상속받아 Electric_car 클래스를 아래 메소드에 맞춰 정의하세요.\n",
    "- \\_\\_init\\_\\_ 메소드\n",
    "    - 매개변수 : self, year, driving_distance, battery_volumne, fuel_efficiency\n",
    "    - year, driving_distance 는 부모 클래스를 오버라이딩\n",
    "    - battery_volumne, fuel_efficiency 는 각각 속성으로 저장\n",
    "- info 메소드\n",
    "    - 매개변수 : self\n",
    "    - 부모 클래스를 오버라이딩\n",
    "    - 추가 속성에 대한 정보를 출력"
   ]
  },
  {
   "cell_type": "code",
   "execution_count": 67,
   "metadata": {
    "ExecuteTime": {
     "end_time": "2022-02-17T05:58:43.052621Z",
     "start_time": "2022-02-17T05:58:43.028388Z"
    }
   },
   "outputs": [],
   "source": [
    "class Electric_car(Car) :\n",
    "    def __init__(self,year,driving_distance, battery_volumne, fuel_efficiency):\n",
    "        super().__init__(year,driving_distance)\n",
    "        self.battery_volumne = battery_volumne\n",
    "        self.fuel_efficiency = fuel_efficiency\n",
    "        print(\"전기차를 구입했습니다.\")\n",
    "    def info(self):\n",
    "        \n",
    "        super().info()\n",
    "        print(f\"- 배터리 용량 : {self.battery_volumne} kWh\")\n",
    "        print(f\"- 연비 : {self.fuel_efficiency} km / kWh\")\n",
    "\n",
    "\n",
    "\n",
    "\n",
    "\n"
   ]
  },
  {
   "cell_type": "code",
   "execution_count": 64,
   "metadata": {
    "ExecuteTime": {
     "end_time": "2022-02-17T05:59:45.493979Z",
     "start_time": "2022-02-17T05:59:45.485964Z"
    }
   },
   "outputs": [
    {
     "name": "stdout",
     "output_type": "stream",
     "text": [
      "전기차를 구입했습니다.\n",
      "* 차 정보 *\n",
      "- 연식 : 2022년식\n",
      "- 주행 거리 : 0 km\n",
      "- 배터리 용량 : 30 kWh\n",
      "- 연비 : 3.6 km / kWh\n"
     ]
    }
   ],
   "source": [
    "# Electric_car 클래스의 인스턴스를 생성하여 myCar 에 저장하세요.\n",
    "# year = 2022, driving_distance = 0, battery_volumne = 30, fuel_efficiency = 3.6\n",
    "myCar = Electric_car(year = 2022, driving_distance = 0, battery_volumne = 30, fuel_efficiency = 3.6)\n",
    "\n",
    "# myCar의 정보를 출력하세요.\n",
    "myCar.info()"
   ]
  },
  {
   "cell_type": "markdown",
   "metadata": {},
   "source": [
    "<br/>\n",
    "<br/>\n",
    "<br/>\n",
    "<br/>"
   ]
  },
  {
   "cell_type": "markdown",
   "metadata": {},
   "source": [
    "### Q3\n",
    "- Electric_car 클래스를 상속받아 Self_driving 클래스를 아래 메소드에 맞춰 정의하세요.\n",
    "- \\_\\_init\\_\\_ 메소드\n",
    "    - 매개변수 : self, year, driving_distance, battery_volumne, fuel_efficiency\n",
    "    - 모든 매개변수는 부모 클래스를 오버라이딩\n",
    "    - auto_mode 속성은 False로 설정\n",
    "    - \"자율주행 차를 구입했습니다.\" 문구 출력\n",
    "- info 메소드\n",
    "    - 매개변수 : self\n",
    "    - 부모 클래스를 오버라이딩\n",
    "    - \"자율주행 가능\" 문구를 출력\n",
    "- turn_auto 메소드\n",
    "    - 매개변수 : self\n",
    "    - auto_mode 속성이 True라면 False로 수정하고, \"자율주행 모드를 종료합니다.\" 문구 출력\n",
    "    - auto_mode 속성이 False라면 True로 수정하고, \"자율주행 모드로 전환합니다.\" 문구 출력"
   ]
  },
  {
   "cell_type": "code",
   "execution_count": 85,
   "metadata": {
    "ExecuteTime": {
     "end_time": "2022-02-17T06:05:27.884670Z",
     "start_time": "2022-02-17T06:05:27.868220Z"
    }
   },
   "outputs": [],
   "source": [
    "class Self_driving(Electric_car) :\n",
    "    def __init__(self,year, driving_distance, battery_volumne, fuel_efficiency):\n",
    "        super().__init__(year, driving_distance, battery_volumne, fuel_efficiency)\n",
    "        self.auto_mode = False\n",
    "        print(\"자율주행 차를 구입했습니다.\")\n",
    "        \n",
    "    def info(self):\n",
    "        super().info()\n",
    "        \n",
    "        print(\"- 자율주행 가능\")\n",
    "        \n",
    "    def turn_auto(self):\n",
    "        if self.auto_mode == True:\n",
    "            self.auto_mode = False\n",
    "            print(\"자율주행 모드를 종료합니다.\")\n",
    "        else:\n",
    "            self.auto_mode = True\n",
    "            print(\"자율주행 모드로 전환합니다.\")\n",
    "\n",
    "\n",
    "\n",
    "\n",
    "\n",
    "\n",
    "\n",
    "\n"
   ]
  },
  {
   "cell_type": "code",
   "execution_count": 86,
   "metadata": {
    "ExecuteTime": {
     "end_time": "2022-02-17T06:05:28.130306Z",
     "start_time": "2022-02-17T06:05:28.106269Z"
    }
   },
   "outputs": [
    {
     "name": "stdout",
     "output_type": "stream",
     "text": [
      "전기차를 구입했습니다.\n",
      "자율주행 차를 구입했습니다.\n",
      "* 차 정보 *\n",
      "- 연식 : 2022년식\n",
      "- 주행 거리 : 0 km\n",
      "- 배터리 용량 : 30 kWh\n",
      "- 연비 : 3.6 km / kWh\n",
      "- 자율주행 가능\n"
     ]
    }
   ],
   "source": [
    "# Self_driving 클래스의 인스턴스를 생성하여 myCar 에 저장하세요.\n",
    "# year = 2022, driving_distance = 0, battery_volumne = 30, fuel_efficiency = 3.6\n",
    "myCar = Self_driving(year = 2022, driving_distance = 0, battery_volumne = 30, fuel_efficiency = 3.6)\n",
    "\n",
    "# myCar의 정보를 출력하세요.\n",
    "myCar.info()"
   ]
  },
  {
   "cell_type": "code",
   "execution_count": 87,
   "metadata": {
    "ExecuteTime": {
     "end_time": "2022-02-17T06:05:28.309039Z",
     "start_time": "2022-02-17T06:05:28.292752Z"
    }
   },
   "outputs": [
    {
     "name": "stdout",
     "output_type": "stream",
     "text": [
      "50 km를 주행하였습니다.\n",
      "* 차 정보 *\n",
      "- 연식 : 2022년식\n",
      "- 주행 거리 : 50 km\n",
      "- 배터리 용량 : 30 kWh\n",
      "- 연비 : 3.6 km / kWh\n",
      "- 자율주행 가능\n"
     ]
    }
   ],
   "source": [
    "# 50 km 주행 후 정보를 출력하세요.\n",
    "myCar.drive(50)\n",
    "myCar.info()"
   ]
  },
  {
   "cell_type": "code",
   "execution_count": 88,
   "metadata": {
    "ExecuteTime": {
     "end_time": "2022-02-17T06:05:28.618607Z",
     "start_time": "2022-02-17T06:05:28.610952Z"
    }
   },
   "outputs": [
    {
     "name": "stdout",
     "output_type": "stream",
     "text": [
      "자율주행 모드로 전환합니다.\n"
     ]
    }
   ],
   "source": [
    "# 자율주행 모드로 전환하세요.\n",
    "myCar.turn_auto()"
   ]
  },
  {
   "cell_type": "code",
   "execution_count": 89,
   "metadata": {
    "ExecuteTime": {
     "end_time": "2022-02-17T06:05:29.218820Z",
     "start_time": "2022-02-17T06:05:29.210822Z"
    }
   },
   "outputs": [
    {
     "name": "stdout",
     "output_type": "stream",
     "text": [
      "자율주행 모드를 종료합니다.\n"
     ]
    }
   ],
   "source": [
    "# 자율주행 모드를 종료하세요.\n",
    "myCar.turn_auto()"
   ]
  },
  {
   "cell_type": "markdown",
   "metadata": {},
   "source": [
    "<br/>\n",
    "<br/>\n",
    "<br/>\n",
    "<br/>"
   ]
  },
  {
   "cell_type": "markdown",
   "metadata": {},
   "source": [
    "### Q4\n",
    "- Q1의 Car 클래스에서 정보 출력을 info 메소드 대신 \\_\\_str\\_\\_ 메소드를 사용하여 정의하세요."
   ]
  },
  {
   "cell_type": "code",
   "execution_count": 140,
   "metadata": {
    "ExecuteTime": {
     "end_time": "2022-02-17T06:15:09.830337Z",
     "start_time": "2022-02-17T06:15:09.806850Z"
    }
   },
   "outputs": [],
   "source": [
    "class Car :\n",
    "\n",
    "    def __init__(self, year, driving_distance):\n",
    "        self.year             = year\n",
    "        self.driving_distance = driving_distance\n",
    "    \n",
    "\n",
    "    def __str__(self):\n",
    "        return '* 차 정보 * \\n- 연식 : {0}년식 \\n- 주행 거리 :{1} km'.format(self.year,self.driving_distance)\n",
    "\n"
   ]
  },
  {
   "cell_type": "code",
   "execution_count": 141,
   "metadata": {
    "ExecuteTime": {
     "end_time": "2022-02-17T06:16:19.583179Z",
     "start_time": "2022-02-17T06:16:19.567326Z"
    }
   },
   "outputs": [
    {
     "name": "stdout",
     "output_type": "stream",
     "text": [
      "* 차 정보 * \n",
      "- 연식 : 2010년식 \n",
      "- 주행 거리 :15000 km\n"
     ]
    }
   ],
   "source": [
    "# Car 클래스의 인스턴스를 생성하여 myCar 에 저장하세요.\n",
    "# year = 2010, driving_distance = 15000\n",
    "myCar = Car(2010, 15000)\n",
    "\n",
    "# myCar의 정보를 출력하세요.\n",
    "print(myCar)"
   ]
  },
  {
   "cell_type": "markdown",
   "metadata": {},
   "source": [
    "<br/>\n",
    "<br/>\n",
    "<br/>\n",
    "<br/>"
   ]
  },
  {
   "cell_type": "markdown",
   "metadata": {},
   "source": [
    "### Q5\n",
    "- Q2의 Electric_car 클래스에서 정보 출력을 info 메소드 대신 \\_\\_str\\_\\_ 메소드를 사용하여 정의하세요.\n",
    "    - year, driving_distance 속성은 부모의 \\_\\_str\\_\\_ 메소드를 오버라이딩"
   ]
  },
  {
   "cell_type": "code",
   "execution_count": 146,
   "metadata": {
    "ExecuteTime": {
     "end_time": "2022-02-17T06:22:20.729009Z",
     "start_time": "2022-02-17T06:22:20.713481Z"
    }
   },
   "outputs": [],
   "source": [
    "class Electric_car(Car) :\n",
    "    def __init__(self,year,driving_distance, battery_volumne, fuel_efficiency):\n",
    "        super().__init__(year,driving_distance)\n",
    "        self.battery_volumne = battery_volumne\n",
    "        self.fuel_efficiency = fuel_efficiency\n",
    "        print(\"전기차를 구입했습니다.\")\n",
    "        \n",
    "\n",
    "    def __str__(self):\n",
    "        print(super().__str__())\n",
    "        return '- 배터리 용량 : {0} kWh \\n- 연비: {1} km / kWh'.format(self.battery_volumne,self.fuel_efficiency)\n",
    "\n"
   ]
  },
  {
   "cell_type": "code",
   "execution_count": 147,
   "metadata": {
    "ExecuteTime": {
     "end_time": "2022-02-17T06:22:20.874905Z",
     "start_time": "2022-02-17T06:22:20.858881Z"
    }
   },
   "outputs": [
    {
     "name": "stdout",
     "output_type": "stream",
     "text": [
      "전기차를 구입했습니다.\n",
      "* 차 정보 * \n",
      "- 연식 : 2022년식 \n",
      "- 주행 거리 :0 km\n",
      "- 배터리 용량 : 30 kWh \n",
      "- 연비: 3.6 km / kWh\n"
     ]
    }
   ],
   "source": [
    "# Electric_car 클래스의 인스턴스를 생성하여 myCar 에 저장하세요.\n",
    "# year = 2022, driving_distance = 0, battery_volumne = 30, fuel_efficiency = 3.6\n",
    "myCar = Electric_car(year = 2022, driving_distance = 0, battery_volumne = 30, fuel_efficiency = 3.6)\n",
    "\n",
    "# myCar의 정보를 출력하세요.\n",
    "print(myCar)"
   ]
  },
  {
   "cell_type": "code",
   "execution_count": null,
   "metadata": {},
   "outputs": [],
   "source": []
  }
 ],
 "metadata": {
  "kernelspec": {
   "display_name": "Python 3 (ipykernel)",
   "language": "python",
   "name": "python3"
  },
  "language_info": {
   "codemirror_mode": {
    "name": "ipython",
    "version": 3
   },
   "file_extension": ".py",
   "mimetype": "text/x-python",
   "name": "python",
   "nbconvert_exporter": "python",
   "pygments_lexer": "ipython3",
   "version": "3.9.12"
  },
  "toc": {
   "base_numbering": 1,
   "nav_menu": {},
   "number_sections": true,
   "sideBar": true,
   "skip_h1_title": false,
   "title_cell": "Table of Contents",
   "title_sidebar": "Contents",
   "toc_cell": false,
   "toc_position": {},
   "toc_section_display": true,
   "toc_window_display": false
  },
  "varInspector": {
   "cols": {
    "lenName": 16,
    "lenType": 16,
    "lenVar": 40
   },
   "kernels_config": {
    "python": {
     "delete_cmd_postfix": "",
     "delete_cmd_prefix": "del ",
     "library": "var_list.py",
     "varRefreshCmd": "print(var_dic_list())"
    },
    "r": {
     "delete_cmd_postfix": ") ",
     "delete_cmd_prefix": "rm(",
     "library": "var_list.r",
     "varRefreshCmd": "cat(var_dic_list()) "
    }
   },
   "types_to_exclude": [
    "module",
    "function",
    "builtin_function_or_method",
    "instance",
    "_Feature"
   ],
   "window_display": false
  }
 },
 "nbformat": 4,
 "nbformat_minor": 4
}
